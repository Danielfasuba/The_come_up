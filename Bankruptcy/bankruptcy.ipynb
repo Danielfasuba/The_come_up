{
 "cells": [
  {
   "attachments": {},
   "cell_type": "markdown",
   "metadata": {},
   "source": [
    "Tools and Libraries\n"
   ]
  },
  {
   "cell_type": "code",
   "execution_count": 2,
   "metadata": {},
   "outputs": [],
   "source": [
    "import pandas as pd\n",
    "import numpy as np\n",
    "import matplotlib.pyplot as plt\n",
    "import seaborn as sns\n",
    "import sklearn\n",
    "\n",
    "from sklearn.model_selection import train_test_split, cross_val_score, cross_val_predict"
   ]
  },
  {
   "cell_type": "code",
   "execution_count": 3,
   "metadata": {},
   "outputs": [],
   "source": [
    "from sklearn.svm import LinearSVC\n",
    "from sklearn.linear_model import LogisticRegression\n",
    "from sklearn.metrics import precision_score, recall_score, confusion_matrix\n",
    "from sklearn.ensemble import RandomForestClassifier\n"
   ]
  },
  {
   "attachments": {},
   "cell_type": "markdown",
   "metadata": {},
   "source": [
    "### Data Collection"
   ]
  },
  {
   "cell_type": "code",
   "execution_count": 4,
   "metadata": {},
   "outputs": [],
   "source": [
    "FILE_PATH = r'C:\\Users\\danie\\Downloads\\Bankruptcy\\Bankruptcy_data(1).xlsx'"
   ]
  },
  {
   "cell_type": "code",
   "execution_count": 5,
   "metadata": {},
   "outputs": [
    {
     "data": {
      "text/html": [
       "<div>\n",
       "<style scoped>\n",
       "    .dataframe tbody tr th:only-of-type {\n",
       "        vertical-align: middle;\n",
       "    }\n",
       "\n",
       "    .dataframe tbody tr th {\n",
       "        vertical-align: top;\n",
       "    }\n",
       "\n",
       "    .dataframe thead th {\n",
       "        text-align: right;\n",
       "    }\n",
       "</style>\n",
       "<table border=\"1\" class=\"dataframe\">\n",
       "  <thead>\n",
       "    <tr style=\"text-align: right;\">\n",
       "      <th></th>\n",
       "      <th>EPS</th>\n",
       "      <th>Liquidity</th>\n",
       "      <th>Profitability</th>\n",
       "      <th>Productivity</th>\n",
       "      <th>Leverage Ratio</th>\n",
       "      <th>Asset Turnover</th>\n",
       "      <th>Operational Margin</th>\n",
       "      <th>Return on Equity</th>\n",
       "      <th>Market Book Ratio</th>\n",
       "      <th>Assets Growth</th>\n",
       "      <th>Sales Growth</th>\n",
       "      <th>Employee Growth</th>\n",
       "      <th>BK</th>\n",
       "    </tr>\n",
       "  </thead>\n",
       "  <tbody>\n",
       "    <tr>\n",
       "      <th>0</th>\n",
       "      <td>1.58</td>\n",
       "      <td>0.36</td>\n",
       "      <td>0.18</td>\n",
       "      <td>0.13</td>\n",
       "      <td>1.33</td>\n",
       "      <td>1.77</td>\n",
       "      <td>0.07</td>\n",
       "      <td>0.15</td>\n",
       "      <td>2.22</td>\n",
       "      <td>NaN</td>\n",
       "      <td>NaN</td>\n",
       "      <td>NaN</td>\n",
       "      <td>0</td>\n",
       "    </tr>\n",
       "    <tr>\n",
       "      <th>1</th>\n",
       "      <td>1.41</td>\n",
       "      <td>0.36</td>\n",
       "      <td>0.19</td>\n",
       "      <td>0.12</td>\n",
       "      <td>1.31</td>\n",
       "      <td>1.59</td>\n",
       "      <td>0.07</td>\n",
       "      <td>0.13</td>\n",
       "      <td>2.41</td>\n",
       "      <td>0.126319</td>\n",
       "      <td>0.014278</td>\n",
       "      <td>0.040179</td>\n",
       "      <td>0</td>\n",
       "    </tr>\n",
       "    <tr>\n",
       "      <th>2</th>\n",
       "      <td>0.31</td>\n",
       "      <td>0.32</td>\n",
       "      <td>0.13</td>\n",
       "      <td>0.08</td>\n",
       "      <td>1.03</td>\n",
       "      <td>1.55</td>\n",
       "      <td>0.05</td>\n",
       "      <td>0.04</td>\n",
       "      <td>2.56</td>\n",
       "      <td>0.368077</td>\n",
       "      <td>0.327909</td>\n",
       "      <td>0.566524</td>\n",
       "      <td>0</td>\n",
       "    </tr>\n",
       "    <tr>\n",
       "      <th>3</th>\n",
       "      <td>0.71</td>\n",
       "      <td>0.28</td>\n",
       "      <td>0.14</td>\n",
       "      <td>0.08</td>\n",
       "      <td>0.80</td>\n",
       "      <td>1.39</td>\n",
       "      <td>0.06</td>\n",
       "      <td>0.05</td>\n",
       "      <td>5.28</td>\n",
       "      <td>-0.020809</td>\n",
       "      <td>-0.118904</td>\n",
       "      <td>-0.095890</td>\n",
       "      <td>0</td>\n",
       "    </tr>\n",
       "    <tr>\n",
       "      <th>4</th>\n",
       "      <td>0.75</td>\n",
       "      <td>0.41</td>\n",
       "      <td>0.13</td>\n",
       "      <td>0.08</td>\n",
       "      <td>0.20</td>\n",
       "      <td>1.30</td>\n",
       "      <td>0.06</td>\n",
       "      <td>0.04</td>\n",
       "      <td>8.68</td>\n",
       "      <td>0.233089</td>\n",
       "      <td>0.146807</td>\n",
       "      <td>0.053030</td>\n",
       "      <td>0</td>\n",
       "    </tr>\n",
       "  </tbody>\n",
       "</table>\n",
       "</div>"
      ],
      "text/plain": [
       "    EPS  Liquidity  Profitability  Productivity  Leverage Ratio  \\\n",
       "0  1.58       0.36           0.18          0.13            1.33   \n",
       "1  1.41       0.36           0.19          0.12            1.31   \n",
       "2  0.31       0.32           0.13          0.08            1.03   \n",
       "3  0.71       0.28           0.14          0.08            0.80   \n",
       "4  0.75       0.41           0.13          0.08            0.20   \n",
       "\n",
       "   Asset Turnover  Operational Margin  Return on Equity  Market Book Ratio  \\\n",
       "0            1.77                0.07              0.15               2.22   \n",
       "1            1.59                0.07              0.13               2.41   \n",
       "2            1.55                0.05              0.04               2.56   \n",
       "3            1.39                0.06              0.05               5.28   \n",
       "4            1.30                0.06              0.04               8.68   \n",
       "\n",
       "   Assets Growth  Sales Growth  Employee Growth  BK  \n",
       "0            NaN           NaN              NaN   0  \n",
       "1       0.126319      0.014278         0.040179   0  \n",
       "2       0.368077      0.327909         0.566524   0  \n",
       "3      -0.020809     -0.118904        -0.095890   0  \n",
       "4       0.233089      0.146807         0.053030   0  "
      ]
     },
     "execution_count": 5,
     "metadata": {},
     "output_type": "execute_result"
    }
   ],
   "source": [
    "# Loading dataset\n",
    "bankruptcy_full = pd.read_excel(FILE_PATH)\n",
    "bankruptcy_full.head()"
   ]
  },
  {
   "cell_type": "code",
   "execution_count": 6,
   "metadata": {},
   "outputs": [
    {
     "name": "stdout",
     "output_type": "stream",
     "text": [
      "<class 'pandas.core.frame.DataFrame'>\n",
      "RangeIndex: 92872 entries, 0 to 92871\n",
      "Data columns (total 13 columns):\n",
      " #   Column              Non-Null Count  Dtype  \n",
      "---  ------              --------------  -----  \n",
      " 0   EPS                 92867 non-null  float64\n",
      " 1   Liquidity           92625 non-null  float64\n",
      " 2   Profitability       92625 non-null  float64\n",
      " 3   Productivity        92625 non-null  float64\n",
      " 4   Leverage Ratio      92846 non-null  float64\n",
      " 5   Asset Turnover      92625 non-null  float64\n",
      " 6   Operational Margin  87315 non-null  float64\n",
      " 7   Return on Equity    92864 non-null  float64\n",
      " 8   Market Book Ratio   92815 non-null  float64\n",
      " 9   Assets Growth       86171 non-null  float64\n",
      " 10  Sales Growth        86171 non-null  float64\n",
      " 11  Employee Growth     85862 non-null  float64\n",
      " 12  BK                  92872 non-null  int64  \n",
      "dtypes: float64(12), int64(1)\n",
      "memory usage: 9.2 MB\n"
     ]
    }
   ],
   "source": [
    "bankruptcy_full.info()"
   ]
  },
  {
   "cell_type": "code",
   "execution_count": 7,
   "metadata": {},
   "outputs": [
    {
     "data": {
      "text/html": [
       "<div>\n",
       "<style scoped>\n",
       "    .dataframe tbody tr th:only-of-type {\n",
       "        vertical-align: middle;\n",
       "    }\n",
       "\n",
       "    .dataframe tbody tr th {\n",
       "        vertical-align: top;\n",
       "    }\n",
       "\n",
       "    .dataframe thead th {\n",
       "        text-align: right;\n",
       "    }\n",
       "</style>\n",
       "<table border=\"1\" class=\"dataframe\">\n",
       "  <thead>\n",
       "    <tr style=\"text-align: right;\">\n",
       "      <th></th>\n",
       "      <th>EPS</th>\n",
       "      <th>Liquidity</th>\n",
       "      <th>Profitability</th>\n",
       "      <th>Productivity</th>\n",
       "      <th>Leverage Ratio</th>\n",
       "      <th>Asset Turnover</th>\n",
       "      <th>Operational Margin</th>\n",
       "      <th>Return on Equity</th>\n",
       "      <th>Market Book Ratio</th>\n",
       "      <th>Assets Growth</th>\n",
       "      <th>Sales Growth</th>\n",
       "      <th>Employee Growth</th>\n",
       "      <th>BK</th>\n",
       "    </tr>\n",
       "  </thead>\n",
       "  <tbody>\n",
       "    <tr>\n",
       "      <th>count</th>\n",
       "      <td>92867.000000</td>\n",
       "      <td>92625.000000</td>\n",
       "      <td>92625.000000</td>\n",
       "      <td>92625.000000</td>\n",
       "      <td>92846.000000</td>\n",
       "      <td>92625.000000</td>\n",
       "      <td>87315.000000</td>\n",
       "      <td>92864.000000</td>\n",
       "      <td>9.281500e+04</td>\n",
       "      <td>86171.000000</td>\n",
       "      <td>86171.000000</td>\n",
       "      <td>85862.000000</td>\n",
       "      <td>92872.000000</td>\n",
       "    </tr>\n",
       "    <tr>\n",
       "      <th>mean</th>\n",
       "      <td>-14.461355</td>\n",
       "      <td>-2.631237</td>\n",
       "      <td>-29.537274</td>\n",
       "      <td>-1.222870</td>\n",
       "      <td>1.345316</td>\n",
       "      <td>1.053613</td>\n",
       "      <td>-7.915485</td>\n",
       "      <td>-2.112382</td>\n",
       "      <td>3.585063e+02</td>\n",
       "      <td>1.294075</td>\n",
       "      <td>1.900108</td>\n",
       "      <td>0.343322</td>\n",
       "      <td>0.006008</td>\n",
       "    </tr>\n",
       "    <tr>\n",
       "      <th>std</th>\n",
       "      <td>2195.467288</td>\n",
       "      <td>121.610921</td>\n",
       "      <td>677.230667</td>\n",
       "      <td>35.885556</td>\n",
       "      <td>253.038093</td>\n",
       "      <td>2.115945</td>\n",
       "      <td>214.460079</td>\n",
       "      <td>352.596902</td>\n",
       "      <td>2.606364e+04</td>\n",
       "      <td>73.769522</td>\n",
       "      <td>177.632638</td>\n",
       "      <td>14.074156</td>\n",
       "      <td>0.077280</td>\n",
       "    </tr>\n",
       "    <tr>\n",
       "      <th>min</th>\n",
       "      <td>-384000.000000</td>\n",
       "      <td>-25968.520000</td>\n",
       "      <td>-79682.000000</td>\n",
       "      <td>-5093.000000</td>\n",
       "      <td>-7811.000000</td>\n",
       "      <td>-31.590000</td>\n",
       "      <td>-30175.700000</td>\n",
       "      <td>-88875.140000</td>\n",
       "      <td>-3.151500e+06</td>\n",
       "      <td>-1.000000</td>\n",
       "      <td>-27.431034</td>\n",
       "      <td>-1.000000</td>\n",
       "      <td>0.000000</td>\n",
       "    </tr>\n",
       "    <tr>\n",
       "      <th>25%</th>\n",
       "      <td>-0.140000</td>\n",
       "      <td>0.020000</td>\n",
       "      <td>-0.640000</td>\n",
       "      <td>-0.060000</td>\n",
       "      <td>0.000000</td>\n",
       "      <td>0.390000</td>\n",
       "      <td>-0.030000</td>\n",
       "      <td>-0.080000</td>\n",
       "      <td>1.120000e+01</td>\n",
       "      <td>-0.052596</td>\n",
       "      <td>-0.033522</td>\n",
       "      <td>-0.048107</td>\n",
       "      <td>0.000000</td>\n",
       "    </tr>\n",
       "    <tr>\n",
       "      <th>50%</th>\n",
       "      <td>0.330000</td>\n",
       "      <td>0.190000</td>\n",
       "      <td>0.070000</td>\n",
       "      <td>0.060000</td>\n",
       "      <td>0.280000</td>\n",
       "      <td>0.830000</td>\n",
       "      <td>0.060000</td>\n",
       "      <td>0.030000</td>\n",
       "      <td>5.828000e+01</td>\n",
       "      <td>0.051844</td>\n",
       "      <td>0.059733</td>\n",
       "      <td>0.017241</td>\n",
       "      <td>0.000000</td>\n",
       "    </tr>\n",
       "    <tr>\n",
       "      <th>75%</th>\n",
       "      <td>1.530000</td>\n",
       "      <td>0.400000</td>\n",
       "      <td>0.310000</td>\n",
       "      <td>0.110000</td>\n",
       "      <td>0.820000</td>\n",
       "      <td>1.390000</td>\n",
       "      <td>0.140000</td>\n",
       "      <td>0.070000</td>\n",
       "      <td>2.401400e+02</td>\n",
       "      <td>0.192062</td>\n",
       "      <td>0.204231</td>\n",
       "      <td>0.130944</td>\n",
       "      <td>0.000000</td>\n",
       "    </tr>\n",
       "    <tr>\n",
       "      <th>max</th>\n",
       "      <td>55339.000000</td>\n",
       "      <td>1.000000</td>\n",
       "      <td>140.580000</td>\n",
       "      <td>1102.000000</td>\n",
       "      <td>75970.380000</td>\n",
       "      <td>276.380000</td>\n",
       "      <td>394.470000</td>\n",
       "      <td>39500.000000</td>\n",
       "      <td>3.455419e+06</td>\n",
       "      <td>14231.000000</td>\n",
       "      <td>39850.000000</td>\n",
       "      <td>2699.000000</td>\n",
       "      <td>1.000000</td>\n",
       "    </tr>\n",
       "  </tbody>\n",
       "</table>\n",
       "</div>"
      ],
      "text/plain": [
       "                 EPS     Liquidity  Profitability  Productivity  \\\n",
       "count   92867.000000  92625.000000   92625.000000  92625.000000   \n",
       "mean      -14.461355     -2.631237     -29.537274     -1.222870   \n",
       "std      2195.467288    121.610921     677.230667     35.885556   \n",
       "min   -384000.000000 -25968.520000  -79682.000000  -5093.000000   \n",
       "25%        -0.140000      0.020000      -0.640000     -0.060000   \n",
       "50%         0.330000      0.190000       0.070000      0.060000   \n",
       "75%         1.530000      0.400000       0.310000      0.110000   \n",
       "max     55339.000000      1.000000     140.580000   1102.000000   \n",
       "\n",
       "       Leverage Ratio  Asset Turnover  Operational Margin  Return on Equity  \\\n",
       "count    92846.000000    92625.000000        87315.000000      92864.000000   \n",
       "mean         1.345316        1.053613           -7.915485         -2.112382   \n",
       "std        253.038093        2.115945          214.460079        352.596902   \n",
       "min      -7811.000000      -31.590000       -30175.700000     -88875.140000   \n",
       "25%          0.000000        0.390000           -0.030000         -0.080000   \n",
       "50%          0.280000        0.830000            0.060000          0.030000   \n",
       "75%          0.820000        1.390000            0.140000          0.070000   \n",
       "max      75970.380000      276.380000          394.470000      39500.000000   \n",
       "\n",
       "       Market Book Ratio  Assets Growth  Sales Growth  Employee Growth  \\\n",
       "count       9.281500e+04   86171.000000  86171.000000     85862.000000   \n",
       "mean        3.585063e+02       1.294075      1.900108         0.343322   \n",
       "std         2.606364e+04      73.769522    177.632638        14.074156   \n",
       "min        -3.151500e+06      -1.000000    -27.431034        -1.000000   \n",
       "25%         1.120000e+01      -0.052596     -0.033522        -0.048107   \n",
       "50%         5.828000e+01       0.051844      0.059733         0.017241   \n",
       "75%         2.401400e+02       0.192062      0.204231         0.130944   \n",
       "max         3.455419e+06   14231.000000  39850.000000      2699.000000   \n",
       "\n",
       "                 BK  \n",
       "count  92872.000000  \n",
       "mean       0.006008  \n",
       "std        0.077280  \n",
       "min        0.000000  \n",
       "25%        0.000000  \n",
       "50%        0.000000  \n",
       "75%        0.000000  \n",
       "max        1.000000  "
      ]
     },
     "execution_count": 7,
     "metadata": {},
     "output_type": "execute_result"
    }
   ],
   "source": [
    "bankruptcy_full.describe()"
   ]
  },
  {
   "cell_type": "markdown",
   "metadata": {},
   "source": [
    "Looking through the dataset's informative and descriptive statistics, Noting that all Feature Attributes are numerical which works well with ML algorithms, Hence there will be no need for encoding transformations. Also, most attributes have very high standard deviations which indicate presence of outliers or a long tail in the distribution or both"
   ]
  },
  {
   "attachments": {},
   "cell_type": "markdown",
   "metadata": {},
   "source": [
    "### Data Preparation (Pre-processing & Transformation)"
   ]
  },
  {
   "cell_type": "code",
   "execution_count": 8,
   "metadata": {},
   "outputs": [],
   "source": [
    "# Separating predictors from labels\n",
    "bankruptcy_labels = bankruptcy_full[\"BK\"]\n",
    "bankruptcy_features = bankruptcy_full.drop(\"BK\", axis=1)"
   ]
  },
  {
   "cell_type": "code",
   "execution_count": 9,
   "metadata": {},
   "outputs": [
    {
     "data": {
      "text/plain": [
       "BK\n",
       "0    92314\n",
       "1      558\n",
       "Name: count, dtype: int64"
      ]
     },
     "execution_count": 9,
     "metadata": {},
     "output_type": "execute_result"
    }
   ],
   "source": [
    "bankruptcy_labels.value_counts() # Checking balance in class attribute"
   ]
  },
  {
   "cell_type": "code",
   "execution_count": 10,
   "metadata": {},
   "outputs": [
    {
     "data": {
      "text/plain": [
       "BK                    1.000000\n",
       "Asset Turnover        0.015191\n",
       "Profitability         0.002454\n",
       "Operational Margin    0.001756\n",
       "Employee Growth       0.001475\n",
       "Productivity          0.001346\n",
       "Liquidity             0.001193\n",
       "Leverage Ratio       -0.000148\n",
       "Sales Growth         -0.000187\n",
       "Market Book Ratio    -0.000882\n",
       "Assets Growth        -0.001393\n",
       "Return on Equity     -0.006530\n",
       "EPS                  -0.007229\n",
       "Name: BK, dtype: float64"
      ]
     },
     "execution_count": 10,
     "metadata": {},
     "output_type": "execute_result"
    }
   ],
   "source": [
    "# Computing correlations in full dataset\n",
    "corr_matrix = bankruptcy_full.corr()\n",
    "corr_matrix[\"BK\"].sort_values(ascending=False)"
   ]
  },
  {
   "cell_type": "markdown",
   "metadata": {},
   "source": [
    "The dataset is highly imbalanced with the ratio of negative labels to positive labels about 165:1. And due to lack of strong linear correlations amongst the features and label, linear models are susceptible to perform badly due to class imbalance."
   ]
  },
  {
   "cell_type": "code",
   "execution_count": 11,
   "metadata": {},
   "outputs": [],
   "source": [
    "# Splitting data into training, testing and validation sets\n",
    "X_train_val, X_test, y_train_val, y_test = train_test_split(bankruptcy_features, bankruptcy_labels, test_size=0.15, random_state=23, stratify=bankruptcy_labels)\n",
    "X_train, X_val, y_train, y_val = train_test_split(X_train_val, y_train_val, test_size=0.15, random_state=23, stratify=y_train_val)\n"
   ]
  },
  {
   "cell_type": "code",
   "execution_count": 12,
   "metadata": {},
   "outputs": [],
   "source": [
    "# grouping attributes to plot histograms on two distinct axes\n",
    "columns0_5 = ['EPS', 'Liquidity', 'Profitability', 'Productivity', 'Leverage Ratio', 'Asset Turnover']\n",
    "columns6_12 = ['Operational Margin', 'Return on Equity', 'Market Book Ratio', 'Assets Growth', 'Sales Growth', 'Employee Growth']"
   ]
  },
  {
   "cell_type": "code",
   "execution_count": 13,
   "metadata": {},
   "outputs": [
    {
     "data": {
      "image/png": "[encoded data removed]",
      "text/plain": [
       "<Figure size 1200x800 with 6 Axes>"
      ]
     },
     "metadata": {},
     "output_type": "display_data"
    }
   ],
   "source": [
    "X_train[columns0_5].hist(bins=100, figsize=(12, 8))\n",
    "plt.show()"
   ]
  },
  {
   "cell_type": "code",
   "execution_count": 14,
   "metadata": {},
   "outputs": [
    {
     "data": {
      "image/png": "[encoded data removed]",
      "text/plain": [
       "<Figure size 1200x800 with 6 Axes>"
      ]
     },
     "metadata": {},
     "output_type": "display_data"
    }
   ],
   "source": [
    "X_train[columns6_12].hist(bins=100, figsize=(12, 8))\n",
    "plt.show()"
   ]
  },
  {
   "cell_type": "markdown",
   "metadata": {},
   "source": [
    "Histograms and descriptive statistics (attribute minimum and maximum values) indicate high skewed data "
   ]
  },
  {
   "cell_type": "code",
   "execution_count": 15,
   "metadata": {},
   "outputs": [
    {
     "data": {
      "text/html": [
       "<div>\n",
       "<style scoped>\n",
       "    .dataframe tbody tr th:only-of-type {\n",
       "        vertical-align: middle;\n",
       "    }\n",
       "\n",
       "    .dataframe tbody tr th {\n",
       "        vertical-align: top;\n",
       "    }\n",
       "\n",
       "    .dataframe thead th {\n",
       "        text-align: right;\n",
       "    }\n",
       "</style>\n",
       "<table border=\"1\" class=\"dataframe\">\n",
       "  <thead>\n",
       "    <tr style=\"text-align: right;\">\n",
       "      <th></th>\n",
       "      <th>EPS</th>\n",
       "      <th>Liquidity</th>\n",
       "      <th>Profitability</th>\n",
       "      <th>Productivity</th>\n",
       "      <th>Leverage Ratio</th>\n",
       "      <th>Asset Turnover</th>\n",
       "      <th>Operational Margin</th>\n",
       "      <th>Return on Equity</th>\n",
       "      <th>Market Book Ratio</th>\n",
       "      <th>Assets Growth</th>\n",
       "      <th>Sales Growth</th>\n",
       "      <th>Employee Growth</th>\n",
       "    </tr>\n",
       "  </thead>\n",
       "  <tbody>\n",
       "    <tr>\n",
       "      <th>count</th>\n",
       "      <td>67096.000000</td>\n",
       "      <td>66922.000000</td>\n",
       "      <td>66922.000000</td>\n",
       "      <td>66922.000000</td>\n",
       "      <td>67082.000000</td>\n",
       "      <td>66922.000000</td>\n",
       "      <td>63011.000000</td>\n",
       "      <td>67093.000000</td>\n",
       "      <td>6.706700e+04</td>\n",
       "      <td>62251.000000</td>\n",
       "      <td>62251.000000</td>\n",
       "      <td>62037.000000</td>\n",
       "    </tr>\n",
       "    <tr>\n",
       "      <th>mean</th>\n",
       "      <td>-15.315253</td>\n",
       "      <td>-2.346371</td>\n",
       "      <td>-29.737309</td>\n",
       "      <td>-1.234733</td>\n",
       "      <td>0.617810</td>\n",
       "      <td>1.053874</td>\n",
       "      <td>-7.727776</td>\n",
       "      <td>-2.078204</td>\n",
       "      <td>3.886545e+02</td>\n",
       "      <td>1.382011</td>\n",
       "      <td>1.661798</td>\n",
       "      <td>0.376532</td>\n",
       "    </tr>\n",
       "    <tr>\n",
       "      <th>std</th>\n",
       "      <td>2272.429005</td>\n",
       "      <td>115.681884</td>\n",
       "      <td>690.211416</td>\n",
       "      <td>38.702848</td>\n",
       "      <td>39.209752</td>\n",
       "      <td>2.224754</td>\n",
       "      <td>203.411536</td>\n",
       "      <td>401.131962</td>\n",
       "      <td>2.806416e+04</td>\n",
       "      <td>82.345595</td>\n",
       "      <td>165.177703</td>\n",
       "      <td>16.208203</td>\n",
       "    </tr>\n",
       "    <tr>\n",
       "      <th>min</th>\n",
       "      <td>-384000.000000</td>\n",
       "      <td>-25968.520000</td>\n",
       "      <td>-79682.000000</td>\n",
       "      <td>-5093.000000</td>\n",
       "      <td>-7811.000000</td>\n",
       "      <td>-31.590000</td>\n",
       "      <td>-30175.700000</td>\n",
       "      <td>-88875.140000</td>\n",
       "      <td>-3.151500e+06</td>\n",
       "      <td>-1.000000</td>\n",
       "      <td>-27.431034</td>\n",
       "      <td>-1.000000</td>\n",
       "    </tr>\n",
       "    <tr>\n",
       "      <th>25%</th>\n",
       "      <td>-0.140000</td>\n",
       "      <td>0.020000</td>\n",
       "      <td>-0.640000</td>\n",
       "      <td>-0.060000</td>\n",
       "      <td>0.000000</td>\n",
       "      <td>0.387337</td>\n",
       "      <td>-0.030000</td>\n",
       "      <td>-0.080000</td>\n",
       "      <td>1.121000e+01</td>\n",
       "      <td>-0.052541</td>\n",
       "      <td>-0.033845</td>\n",
       "      <td>-0.048018</td>\n",
       "    </tr>\n",
       "    <tr>\n",
       "      <th>50%</th>\n",
       "      <td>0.320430</td>\n",
       "      <td>0.190000</td>\n",
       "      <td>0.070000</td>\n",
       "      <td>0.060000</td>\n",
       "      <td>0.280000</td>\n",
       "      <td>0.830000</td>\n",
       "      <td>0.060000</td>\n",
       "      <td>0.030000</td>\n",
       "      <td>5.835000e+01</td>\n",
       "      <td>0.051549</td>\n",
       "      <td>0.059465</td>\n",
       "      <td>0.017058</td>\n",
       "    </tr>\n",
       "    <tr>\n",
       "      <th>75%</th>\n",
       "      <td>1.530000</td>\n",
       "      <td>0.400000</td>\n",
       "      <td>0.310000</td>\n",
       "      <td>0.110000</td>\n",
       "      <td>0.820000</td>\n",
       "      <td>1.390000</td>\n",
       "      <td>0.140000</td>\n",
       "      <td>0.070000</td>\n",
       "      <td>2.412100e+02</td>\n",
       "      <td>0.192446</td>\n",
       "      <td>0.203104</td>\n",
       "      <td>0.130757</td>\n",
       "    </tr>\n",
       "    <tr>\n",
       "      <th>max</th>\n",
       "      <td>55339.000000</td>\n",
       "      <td>1.000000</td>\n",
       "      <td>140.580000</td>\n",
       "      <td>1102.000000</td>\n",
       "      <td>2238.567394</td>\n",
       "      <td>276.380000</td>\n",
       "      <td>193.140000</td>\n",
       "      <td>39500.000000</td>\n",
       "      <td>3.455419e+06</td>\n",
       "      <td>14231.000000</td>\n",
       "      <td>39850.000000</td>\n",
       "      <td>2699.000000</td>\n",
       "    </tr>\n",
       "  </tbody>\n",
       "</table>\n",
       "</div>"
      ],
      "text/plain": [
       "                 EPS     Liquidity  Profitability  Productivity  \\\n",
       "count   67096.000000  66922.000000   66922.000000  66922.000000   \n",
       "mean      -15.315253     -2.346371     -29.737309     -1.234733   \n",
       "std      2272.429005    115.681884     690.211416     38.702848   \n",
       "min   -384000.000000 -25968.520000  -79682.000000  -5093.000000   \n",
       "25%        -0.140000      0.020000      -0.640000     -0.060000   \n",
       "50%         0.320430      0.190000       0.070000      0.060000   \n",
       "75%         1.530000      0.400000       0.310000      0.110000   \n",
       "max     55339.000000      1.000000     140.580000   1102.000000   \n",
       "\n",
       "       Leverage Ratio  Asset Turnover  Operational Margin  Return on Equity  \\\n",
       "count    67082.000000    66922.000000        63011.000000      67093.000000   \n",
       "mean         0.617810        1.053874           -7.727776         -2.078204   \n",
       "std         39.209752        2.224754          203.411536        401.131962   \n",
       "min      -7811.000000      -31.590000       -30175.700000     -88875.140000   \n",
       "25%          0.000000        0.387337           -0.030000         -0.080000   \n",
       "50%          0.280000        0.830000            0.060000          0.030000   \n",
       "75%          0.820000        1.390000            0.140000          0.070000   \n",
       "max       2238.567394      276.380000          193.140000      39500.000000   \n",
       "\n",
       "       Market Book Ratio  Assets Growth  Sales Growth  Employee Growth  \n",
       "count       6.706700e+04   62251.000000  62251.000000     62037.000000  \n",
       "mean        3.886545e+02       1.382011      1.661798         0.376532  \n",
       "std         2.806416e+04      82.345595    165.177703        16.208203  \n",
       "min        -3.151500e+06      -1.000000    -27.431034        -1.000000  \n",
       "25%         1.121000e+01      -0.052541     -0.033845        -0.048018  \n",
       "50%         5.835000e+01       0.051549      0.059465         0.017058  \n",
       "75%         2.412100e+02       0.192446      0.203104         0.130757  \n",
       "max         3.455419e+06   14231.000000  39850.000000      2699.000000  "
      ]
     },
     "execution_count": 15,
     "metadata": {},
     "output_type": "execute_result"
    }
   ],
   "source": [
    "X_train.describe()"
   ]
  },
  {
   "cell_type": "markdown",
   "metadata": {},
   "source": [
    "Resampling Dataset"
   ]
  },
  {
   "cell_type": "code",
   "execution_count": 16,
   "metadata": {},
   "outputs": [],
   "source": [
    "# Data resampling due to high imbalance in Label examples of dataset\n",
    "# Create Resampling pipeline to handle oversampling and subsequently undersampling\n",
    "from imblearn.over_sampling import SMOTE\n",
    "from imblearn.under_sampling import RandomUnderSampler\n",
    "from imblearn.pipeline import Pipeline\n",
    "from sklearn.impute import SimpleImputer\n",
    "\n",
    "over_sampler = SMOTE(sampling_strategy=0.4)\n",
    "under_sampler = RandomUnderSampler(sampling_strategy=0.8)\n",
    "\n",
    "resampling_pipeline = Pipeline([\n",
    "    ('imputer', SimpleImputer(strategy='median')),\n",
    "    ('over', over_sampler),\n",
    "    ('under', under_sampler)\n",
    "])"
   ]
  },
  {
   "cell_type": "code",
   "execution_count": 17,
   "metadata": {},
   "outputs": [],
   "source": [
    "# Resample the dataset\n",
    "X_train_res, y_train_res = resampling_pipeline.fit_resample(X_train, y_train)"
   ]
  },
  {
   "cell_type": "code",
   "execution_count": 18,
   "metadata": {},
   "outputs": [
    {
     "name": "stdout",
     "output_type": "stream",
     "text": [
      "Counter({0: 33347, 1: 26678})\n"
     ]
    }
   ],
   "source": [
    "# Checking class distribution of resampled data\n",
    "from collections import Counter\n",
    "counter = Counter(y_train_res)\n",
    "print(counter)"
   ]
  },
  {
   "cell_type": "code",
   "execution_count": 19,
   "metadata": {},
   "outputs": [
    {
     "data": {
      "text/html": [
       "<div>\n",
       "<style scoped>\n",
       "    .dataframe tbody tr th:only-of-type {\n",
       "        vertical-align: middle;\n",
       "    }\n",
       "\n",
       "    .dataframe tbody tr th {\n",
       "        vertical-align: top;\n",
       "    }\n",
       "\n",
       "    .dataframe thead th {\n",
       "        text-align: right;\n",
       "    }\n",
       "</style>\n",
       "<table border=\"1\" class=\"dataframe\">\n",
       "  <thead>\n",
       "    <tr style=\"text-align: right;\">\n",
       "      <th></th>\n",
       "      <th>EPS</th>\n",
       "      <th>Liquidity</th>\n",
       "      <th>Profitability</th>\n",
       "      <th>Productivity</th>\n",
       "      <th>Leverage Ratio</th>\n",
       "      <th>Asset Turnover</th>\n",
       "      <th>Operational Margin</th>\n",
       "      <th>Return on Equity</th>\n",
       "      <th>Market Book Ratio</th>\n",
       "      <th>Assets Growth</th>\n",
       "      <th>Sales Growth</th>\n",
       "      <th>Employee Growth</th>\n",
       "    </tr>\n",
       "  </thead>\n",
       "  <tbody>\n",
       "    <tr>\n",
       "      <th>count</th>\n",
       "      <td>60025.000000</td>\n",
       "      <td>60025.000000</td>\n",
       "      <td>60025.000000</td>\n",
       "      <td>60025.000000</td>\n",
       "      <td>60025.000000</td>\n",
       "      <td>60025.000000</td>\n",
       "      <td>60025.000000</td>\n",
       "      <td>60025.000000</td>\n",
       "      <td>6.002500e+04</td>\n",
       "      <td>60025.000000</td>\n",
       "      <td>60025.000000</td>\n",
       "      <td>60025.000000</td>\n",
       "    </tr>\n",
       "    <tr>\n",
       "      <th>mean</th>\n",
       "      <td>-74.348700</td>\n",
       "      <td>-1.259233</td>\n",
       "      <td>-18.998824</td>\n",
       "      <td>-0.970973</td>\n",
       "      <td>0.645052</td>\n",
       "      <td>1.249548</td>\n",
       "      <td>-5.210980</td>\n",
       "      <td>-8.298607</td>\n",
       "      <td>1.590017e+02</td>\n",
       "      <td>0.528655</td>\n",
       "      <td>1.659853</td>\n",
       "      <td>0.378359</td>\n",
       "    </tr>\n",
       "    <tr>\n",
       "      <th>std</th>\n",
       "      <td>3161.973708</td>\n",
       "      <td>45.867763</td>\n",
       "      <td>505.317192</td>\n",
       "      <td>29.170873</td>\n",
       "      <td>37.830840</td>\n",
       "      <td>2.077730</td>\n",
       "      <td>144.602676</td>\n",
       "      <td>179.588585</td>\n",
       "      <td>1.842804e+04</td>\n",
       "      <td>43.693605</td>\n",
       "      <td>165.564751</td>\n",
       "      <td>14.374166</td>\n",
       "    </tr>\n",
       "    <tr>\n",
       "      <th>min</th>\n",
       "      <td>-384000.000000</td>\n",
       "      <td>-6323.000000</td>\n",
       "      <td>-56186.000000</td>\n",
       "      <td>-4595.000000</td>\n",
       "      <td>-7811.000000</td>\n",
       "      <td>-0.490000</td>\n",
       "      <td>-15265.300000</td>\n",
       "      <td>-14360.510000</td>\n",
       "      <td>-3.151500e+06</td>\n",
       "      <td>-1.000000</td>\n",
       "      <td>-6.487889</td>\n",
       "      <td>-1.000000</td>\n",
       "    </tr>\n",
       "    <tr>\n",
       "      <th>25%</th>\n",
       "      <td>-0.860000</td>\n",
       "      <td>-0.096694</td>\n",
       "      <td>-1.490000</td>\n",
       "      <td>-0.250000</td>\n",
       "      <td>0.000000</td>\n",
       "      <td>0.510000</td>\n",
       "      <td>-0.236629</td>\n",
       "      <td>-0.747845</td>\n",
       "      <td>3.323312e-01</td>\n",
       "      <td>-0.181224</td>\n",
       "      <td>-0.123439</td>\n",
       "      <td>-0.123250</td>\n",
       "    </tr>\n",
       "    <tr>\n",
       "      <th>50%</th>\n",
       "      <td>-0.120000</td>\n",
       "      <td>0.090000</td>\n",
       "      <td>-0.240000</td>\n",
       "      <td>-0.030000</td>\n",
       "      <td>0.303402</td>\n",
       "      <td>1.010000</td>\n",
       "      <td>-0.010000</td>\n",
       "      <td>-0.095462</td>\n",
       "      <td>1.845000e+01</td>\n",
       "      <td>0.001840</td>\n",
       "      <td>0.033330</td>\n",
       "      <td>0.000000</td>\n",
       "    </tr>\n",
       "    <tr>\n",
       "      <th>75%</th>\n",
       "      <td>0.640000</td>\n",
       "      <td>0.290000</td>\n",
       "      <td>0.150000</td>\n",
       "      <td>0.076694</td>\n",
       "      <td>1.098061</td>\n",
       "      <td>1.660000</td>\n",
       "      <td>0.080000</td>\n",
       "      <td>0.050000</td>\n",
       "      <td>1.133700e+02</td>\n",
       "      <td>0.141889</td>\n",
       "      <td>0.178433</td>\n",
       "      <td>0.101102</td>\n",
       "    </tr>\n",
       "    <tr>\n",
       "      <th>max</th>\n",
       "      <td>55339.000000</td>\n",
       "      <td>1.000000</td>\n",
       "      <td>5.740000</td>\n",
       "      <td>35.920000</td>\n",
       "      <td>2167.000000</td>\n",
       "      <td>276.380000</td>\n",
       "      <td>10.820000</td>\n",
       "      <td>11228.850000</td>\n",
       "      <td>1.020718e+06</td>\n",
       "      <td>10173.720000</td>\n",
       "      <td>39850.000000</td>\n",
       "      <td>2699.000000</td>\n",
       "    </tr>\n",
       "  </tbody>\n",
       "</table>\n",
       "</div>"
      ],
      "text/plain": [
       "                 EPS     Liquidity  Profitability  Productivity  \\\n",
       "count   60025.000000  60025.000000   60025.000000  60025.000000   \n",
       "mean      -74.348700     -1.259233     -18.998824     -0.970973   \n",
       "std      3161.973708     45.867763     505.317192     29.170873   \n",
       "min   -384000.000000  -6323.000000  -56186.000000  -4595.000000   \n",
       "25%        -0.860000     -0.096694      -1.490000     -0.250000   \n",
       "50%        -0.120000      0.090000      -0.240000     -0.030000   \n",
       "75%         0.640000      0.290000       0.150000      0.076694   \n",
       "max     55339.000000      1.000000       5.740000     35.920000   \n",
       "\n",
       "       Leverage Ratio  Asset Turnover  Operational Margin  Return on Equity  \\\n",
       "count    60025.000000    60025.000000        60025.000000      60025.000000   \n",
       "mean         0.645052        1.249548           -5.210980         -8.298607   \n",
       "std         37.830840        2.077730          144.602676        179.588585   \n",
       "min      -7811.000000       -0.490000       -15265.300000     -14360.510000   \n",
       "25%          0.000000        0.510000           -0.236629         -0.747845   \n",
       "50%          0.303402        1.010000           -0.010000         -0.095462   \n",
       "75%          1.098061        1.660000            0.080000          0.050000   \n",
       "max       2167.000000      276.380000           10.820000      11228.850000   \n",
       "\n",
       "       Market Book Ratio  Assets Growth  Sales Growth  Employee Growth  \n",
       "count       6.002500e+04   60025.000000  60025.000000     60025.000000  \n",
       "mean        1.590017e+02       0.528655      1.659853         0.378359  \n",
       "std         1.842804e+04      43.693605    165.564751        14.374166  \n",
       "min        -3.151500e+06      -1.000000     -6.487889        -1.000000  \n",
       "25%         3.323312e-01      -0.181224     -0.123439        -0.123250  \n",
       "50%         1.845000e+01       0.001840      0.033330         0.000000  \n",
       "75%         1.133700e+02       0.141889      0.178433         0.101102  \n",
       "max         1.020718e+06   10173.720000  39850.000000      2699.000000  "
      ]
     },
     "execution_count": 19,
     "metadata": {},
     "output_type": "execute_result"
    }
   ],
   "source": [
    "X_res_df = pd.DataFrame(X_train_res, columns=X_train.columns)\n",
    "X_res_df.describe()"
   ]
  },
  {
   "cell_type": "markdown",
   "metadata": {},
   "source": [
    "Data cleaning and Transformation"
   ]
  },
  {
   "cell_type": "markdown",
   "metadata": {},
   "source": [
    "The data cleaning and tranformations employed involve filling in missing values with the median values of attributes; the low range in the across the quartiles of feature attributes prompted the use of median attribute values, Clipping the long tails of negatively skewed distributions, performing log transforms to reduce effect of outliers and scaling all feature attrbutes"
   ]
  },
  {
   "cell_type": "code",
   "execution_count": 20,
   "metadata": {},
   "outputs": [],
   "source": [
    "# Creating custom transformer to perform log transformations to mitigate skewness in data\n",
    "from sklearn.preprocessing import StandardScaler, FunctionTransformer\n",
    "log_transform = FunctionTransformer(np.log1p)\n"
   ]
  },
  {
   "cell_type": "code",
   "execution_count": 21,
   "metadata": {},
   "outputs": [
    {
     "data": {
      "text/plain": [
       "-0.8187229794523868"
      ]
     },
     "execution_count": 21,
     "metadata": {},
     "output_type": "execute_result"
    }
   ],
   "source": [
    "# Searching for adequate lower limit to clip high negatively skewed data in order to compute log transformations\n",
    "np.quantile(X_res_df['Profitability'], 0.35)"
   ]
  },
  {
   "cell_type": "code",
   "execution_count": 22,
   "metadata": {},
   "outputs": [],
   "source": [
    "# Creating custom transformer to perform clipping on highly skewed dataset\n",
    "from sklearn.base import TransformerMixin\n",
    "\n",
    "class ColumnClipper(TransformerMixin):\n",
    "    def __init__(self):\n",
    "        self.column_min = None\n",
    "        self.column_max = None\n",
    "\n",
    "    def fit(self, X, y=None):\n",
    "        self.column_min = np.quantile(X, 0.35, axis=0)\n",
    "        #self.column_max = np.quantile(X, 0.75, axis=0)\n",
    "        return self\n",
    "\n",
    "    def transform(self, X):\n",
    "        return np.clip(X, self.column_min, self.column_max)\n",
    "\n",
    "clipper = ColumnClipper()"
   ]
  },
  {
   "cell_type": "code",
   "execution_count": 23,
   "metadata": {},
   "outputs": [],
   "source": [
    "# Create Pipeline to handle data cleaning and transformation\n",
    "from sklearn.pipeline import Pipeline\n",
    "\n",
    "prep_pipeline = Pipeline([\n",
    "    ('imputer', SimpleImputer(strategy=\"median\")),\n",
    "    ('att_clipper', clipper),\n",
    "    ('log_transformer', log_transform),\n",
    "    ('std_scaler', StandardScaler())\n",
    "])"
   ]
  },
  {
   "cell_type": "code",
   "execution_count": 24,
   "metadata": {},
   "outputs": [],
   "source": [
    "# Fit and transform training set using the data preparation pipeline\n",
    "X_train_prepared = prep_pipeline.fit_transform(X_train_res)"
   ]
  },
  {
   "cell_type": "code",
   "execution_count": 25,
   "metadata": {},
   "outputs": [
    {
     "data": {
      "text/plain": [
       "array([[ 0.62036523, -0.49130419,  0.79716832,  1.10411317,  0.29320089,\n",
       "        -0.838324  ,  1.24270041,  0.4448696 ,  1.44712465,  0.02579297,\n",
       "        -0.13356684,  0.40316721],\n",
       "       [-0.13217356, -0.88828592, -1.22815315, -1.00825662, -0.6918729 ,\n",
       "         0.8661865 , -0.93140971, -0.07146843, -0.91716566,  8.95611154,\n",
       "         5.11114175, -0.08032315]])"
      ]
     },
     "execution_count": 25,
     "metadata": {},
     "output_type": "execute_result"
    }
   ],
   "source": [
    "X_train_prepared[:2]"
   ]
  },
  {
   "attachments": {},
   "cell_type": "markdown",
   "metadata": {},
   "source": [
    "## Model Selection and Training"
   ]
  },
  {
   "cell_type": "markdown",
   "metadata": {},
   "source": [
    "#### Developing baseline models using Logistic regression and Random Forest Classifier Algorithms"
   ]
  },
  {
   "attachments": {},
   "cell_type": "markdown",
   "metadata": {},
   "source": [
    "Logistic Regression"
   ]
  },
  {
   "cell_type": "code",
   "execution_count": 26,
   "metadata": {},
   "outputs": [
    {
     "data": {
      "text/html": [
       "<style>#sk-container-id-1 {color: black;background-color: white;}#sk-container-id-1 pre{padding: 0;}#sk-container-id-1 div.sk-toggleable {background-color: white;}#sk-container-id-1 label.sk-toggleable__label {cursor: pointer;display: block;width: 100%;margin-bottom: 0;padding: 0.3em;box-sizing: border-box;text-align: center;}#sk-container-id-1 label.sk-toggleable__label-arrow:before {content: \"▸\";float: left;margin-right: 0.25em;color: #696969;}#sk-container-id-1 label.sk-toggleable__label-arrow:hover:before {color: black;}#sk-container-id-1 div.sk-estimator:hover label.sk-toggleable__label-arrow:before {color: black;}#sk-container-id-1 div.sk-toggleable__content {max-height: 0;max-width: 0;overflow: hidden;text-align: left;background-color: #f0f8ff;}#sk-container-id-1 div.sk-toggleable__content pre {margin: 0.2em;color: black;border-radius: 0.25em;background-color: #f0f8ff;}#sk-container-id-1 input.sk-toggleable__control:checked~div.sk-toggleable__content {max-height: 200px;max-width: 100%;overflow: auto;}#sk-container-id-1 input.sk-toggleable__control:checked~label.sk-toggleable__label-arrow:before {content: \"▾\";}#sk-container-id-1 div.sk-estimator input.sk-toggleable__control:checked~label.sk-toggleable__label {background-color: #d4ebff;}#sk-container-id-1 div.sk-label input.sk-toggleable__control:checked~label.sk-toggleable__label {background-color: #d4ebff;}#sk-container-id-1 input.sk-hidden--visually {border: 0;clip: rect(1px 1px 1px 1px);clip: rect(1px, 1px, 1px, 1px);height: 1px;margin: -1px;overflow: hidden;padding: 0;position: absolute;width: 1px;}#sk-container-id-1 div.sk-estimator {font-family: monospace;background-color: #f0f8ff;border: 1px dotted black;border-radius: 0.25em;box-sizing: border-box;margin-bottom: 0.5em;}#sk-container-id-1 div.sk-estimator:hover {background-color: #d4ebff;}#sk-container-id-1 div.sk-parallel-item::after {content: \"\";width: 100%;border-bottom: 1px solid gray;flex-grow: 1;}#sk-container-id-1 div.sk-label:hover label.sk-toggleable__label {background-color: #d4ebff;}#sk-container-id-1 div.sk-serial::before {content: \"\";position: absolute;border-left: 1px solid gray;box-sizing: border-box;top: 0;bottom: 0;left: 50%;z-index: 0;}#sk-container-id-1 div.sk-serial {display: flex;flex-direction: column;align-items: center;background-color: white;padding-right: 0.2em;padding-left: 0.2em;position: relative;}#sk-container-id-1 div.sk-item {position: relative;z-index: 1;}#sk-container-id-1 div.sk-parallel {display: flex;align-items: stretch;justify-content: center;background-color: white;position: relative;}#sk-container-id-1 div.sk-item::before, #sk-container-id-1 div.sk-parallel-item::before {content: \"\";position: absolute;border-left: 1px solid gray;box-sizing: border-box;top: 0;bottom: 0;left: 50%;z-index: -1;}#sk-container-id-1 div.sk-parallel-item {display: flex;flex-direction: column;z-index: 1;position: relative;background-color: white;}#sk-container-id-1 div.sk-parallel-item:first-child::after {align-self: flex-end;width: 50%;}#sk-container-id-1 div.sk-parallel-item:last-child::after {align-self: flex-start;width: 50%;}#sk-container-id-1 div.sk-parallel-item:only-child::after {width: 0;}#sk-container-id-1 div.sk-dashed-wrapped {border: 1px dashed gray;margin: 0 0.4em 0.5em 0.4em;box-sizing: border-box;padding-bottom: 0.4em;background-color: white;}#sk-container-id-1 div.sk-label label {font-family: monospace;font-weight: bold;display: inline-block;line-height: 1.2em;}#sk-container-id-1 div.sk-label-container {text-align: center;}#sk-container-id-1 div.sk-container {/* jupyter's `normalize.less` sets `[hidden] { display: none; }` but bootstrap.min.css set `[hidden] { display: none !important; }` so we also need the `!important` here to be able to override the default hidden behavior on the sphinx rendered scikit-learn.org. See: https://github.com/scikit-learn/scikit-learn/issues/21755 */display: inline-block !important;position: relative;}#sk-container-id-1 div.sk-text-repr-fallback {display: none;}</style><div id=\"sk-container-id-1\" class=\"sk-top-container\"><div class=\"sk-text-repr-fallback\"><pre>LogisticRegression(random_state=23)</pre><b>In a Jupyter environment, please rerun this cell to show the HTML representation or trust the notebook. <br />On GitHub, the HTML representation is unable to render, please try loading this page with nbviewer.org.</b></div><div class=\"sk-container\" hidden><div class=\"sk-item\"><div class=\"sk-estimator sk-toggleable\"><input class=\"sk-toggleable__control sk-hidden--visually\" id=\"sk-estimator-id-1\" type=\"checkbox\" checked><label for=\"sk-estimator-id-1\" class=\"sk-toggleable__label sk-toggleable__label-arrow\">LogisticRegression</label><div class=\"sk-toggleable__content\"><pre>LogisticRegression(random_state=23)</pre></div></div></div></div></div>"
      ],
      "text/plain": [
       "LogisticRegression(random_state=23)"
      ]
     },
     "execution_count": 26,
     "metadata": {},
     "output_type": "execute_result"
    }
   ],
   "source": [
    "# Training a logistic regression on dataset\n",
    "log_regression = LogisticRegression(random_state=23)\n",
    "log_regression.fit(X_train_prepared, y_train_res)"
   ]
  },
  {
   "cell_type": "code",
   "execution_count": 27,
   "metadata": {},
   "outputs": [],
   "source": [
    "# Compute logistic regression predictions\n",
    "log_predictions = cross_val_predict(log_regression, X_train_prepared, y_train_res, cv=3)"
   ]
  },
  {
   "cell_type": "code",
   "execution_count": 28,
   "metadata": {},
   "outputs": [
    {
     "data": {
      "text/plain": [
       "array([[27946,  5401],\n",
       "       [ 4042, 22636]], dtype=int64)"
      ]
     },
     "execution_count": 28,
     "metadata": {},
     "output_type": "execute_result"
    }
   ],
   "source": [
    "confusion_matrix(y_train_res, log_predictions)"
   ]
  },
  {
   "cell_type": "code",
   "execution_count": 29,
   "metadata": {},
   "outputs": [],
   "source": [
    "# Compute logistic regression precision and recall\n",
    "# Regarding the Precision-Recall tradeoff, recall is my preferred performance metric. Although the ROC_AUC  is the metric the models will be evaluated on \n",
    "log_precision = precision_score(y_train_res, log_predictions)\n",
    "log_recall = recall_score(y_train_res, log_predictions)"
   ]
  },
  {
   "cell_type": "code",
   "execution_count": 30,
   "metadata": {},
   "outputs": [
    {
     "name": "stdout",
     "output_type": "stream",
     "text": [
      "Log precision: 0.8073617006099083 \n",
      "Log Recall: 0.8484893920083965\n"
     ]
    }
   ],
   "source": [
    "print(f'Log precision: {log_precision} \\nLog Recall: {log_recall}')"
   ]
  },
  {
   "cell_type": "code",
   "execution_count": 31,
   "metadata": {},
   "outputs": [
    {
     "data": {
      "text/plain": [
       "0.9123955261257646"
      ]
     },
     "execution_count": 31,
     "metadata": {},
     "output_type": "execute_result"
    }
   ],
   "source": [
    "# Compute Area under the ROC; The evaluating performance metric \n",
    "from sklearn.metrics import roc_auc_score\n",
    "y_scores_log = log_regression.decision_function(X_train_prepared)\n",
    "roc_auc_score(y_train_res, y_scores_log)"
   ]
  },
  {
   "attachments": {},
   "cell_type": "markdown",
   "metadata": {},
   "source": [
    "Random Forest"
   ]
  },
  {
   "cell_type": "code",
   "execution_count": 32,
   "metadata": {},
   "outputs": [
    {
     "data": {
      "text/html": [
       "<style>#sk-container-id-2 {color: black;background-color: white;}#sk-container-id-2 pre{padding: 0;}#sk-container-id-2 div.sk-toggleable {background-color: white;}#sk-container-id-2 label.sk-toggleable__label {cursor: pointer;display: block;width: 100%;margin-bottom: 0;padding: 0.3em;box-sizing: border-box;text-align: center;}#sk-container-id-2 label.sk-toggleable__label-arrow:before {content: \"▸\";float: left;margin-right: 0.25em;color: #696969;}#sk-container-id-2 label.sk-toggleable__label-arrow:hover:before {color: black;}#sk-container-id-2 div.sk-estimator:hover label.sk-toggleable__label-arrow:before {color: black;}#sk-container-id-2 div.sk-toggleable__content {max-height: 0;max-width: 0;overflow: hidden;text-align: left;background-color: #f0f8ff;}#sk-container-id-2 div.sk-toggleable__content pre {margin: 0.2em;color: black;border-radius: 0.25em;background-color: #f0f8ff;}#sk-container-id-2 input.sk-toggleable__control:checked~div.sk-toggleable__content {max-height: 200px;max-width: 100%;overflow: auto;}#sk-container-id-2 input.sk-toggleable__control:checked~label.sk-toggleable__label-arrow:before {content: \"▾\";}#sk-container-id-2 div.sk-estimator input.sk-toggleable__control:checked~label.sk-toggleable__label {background-color: #d4ebff;}#sk-container-id-2 div.sk-label input.sk-toggleable__control:checked~label.sk-toggleable__label {background-color: #d4ebff;}#sk-container-id-2 input.sk-hidden--visually {border: 0;clip: rect(1px 1px 1px 1px);clip: rect(1px, 1px, 1px, 1px);height: 1px;margin: -1px;overflow: hidden;padding: 0;position: absolute;width: 1px;}#sk-container-id-2 div.sk-estimator {font-family: monospace;background-color: #f0f8ff;border: 1px dotted black;border-radius: 0.25em;box-sizing: border-box;margin-bottom: 0.5em;}#sk-container-id-2 div.sk-estimator:hover {background-color: #d4ebff;}#sk-container-id-2 div.sk-parallel-item::after {content: \"\";width: 100%;border-bottom: 1px solid gray;flex-grow: 1;}#sk-container-id-2 div.sk-label:hover label.sk-toggleable__label {background-color: #d4ebff;}#sk-container-id-2 div.sk-serial::before {content: \"\";position: absolute;border-left: 1px solid gray;box-sizing: border-box;top: 0;bottom: 0;left: 50%;z-index: 0;}#sk-container-id-2 div.sk-serial {display: flex;flex-direction: column;align-items: center;background-color: white;padding-right: 0.2em;padding-left: 0.2em;position: relative;}#sk-container-id-2 div.sk-item {position: relative;z-index: 1;}#sk-container-id-2 div.sk-parallel {display: flex;align-items: stretch;justify-content: center;background-color: white;position: relative;}#sk-container-id-2 div.sk-item::before, #sk-container-id-2 div.sk-parallel-item::before {content: \"\";position: absolute;border-left: 1px solid gray;box-sizing: border-box;top: 0;bottom: 0;left: 50%;z-index: -1;}#sk-container-id-2 div.sk-parallel-item {display: flex;flex-direction: column;z-index: 1;position: relative;background-color: white;}#sk-container-id-2 div.sk-parallel-item:first-child::after {align-self: flex-end;width: 50%;}#sk-container-id-2 div.sk-parallel-item:last-child::after {align-self: flex-start;width: 50%;}#sk-container-id-2 div.sk-parallel-item:only-child::after {width: 0;}#sk-container-id-2 div.sk-dashed-wrapped {border: 1px dashed gray;margin: 0 0.4em 0.5em 0.4em;box-sizing: border-box;padding-bottom: 0.4em;background-color: white;}#sk-container-id-2 div.sk-label label {font-family: monospace;font-weight: bold;display: inline-block;line-height: 1.2em;}#sk-container-id-2 div.sk-label-container {text-align: center;}#sk-container-id-2 div.sk-container {/* jupyter's `normalize.less` sets `[hidden] { display: none; }` but bootstrap.min.css set `[hidden] { display: none !important; }` so we also need the `!important` here to be able to override the default hidden behavior on the sphinx rendered scikit-learn.org. See: https://github.com/scikit-learn/scikit-learn/issues/21755 */display: inline-block !important;position: relative;}#sk-container-id-2 div.sk-text-repr-fallback {display: none;}</style><div id=\"sk-container-id-2\" class=\"sk-top-container\"><div class=\"sk-text-repr-fallback\"><pre>RandomForestClassifier(random_state=23)</pre><b>In a Jupyter environment, please rerun this cell to show the HTML representation or trust the notebook. <br />On GitHub, the HTML representation is unable to render, please try loading this page with nbviewer.org.</b></div><div class=\"sk-container\" hidden><div class=\"sk-item\"><div class=\"sk-estimator sk-toggleable\"><input class=\"sk-toggleable__control sk-hidden--visually\" id=\"sk-estimator-id-2\" type=\"checkbox\" checked><label for=\"sk-estimator-id-2\" class=\"sk-toggleable__label sk-toggleable__label-arrow\">RandomForestClassifier</label><div class=\"sk-toggleable__content\"><pre>RandomForestClassifier(random_state=23)</pre></div></div></div></div></div>"
      ],
      "text/plain": [
       "RandomForestClassifier(random_state=23)"
      ]
     },
     "execution_count": 32,
     "metadata": {},
     "output_type": "execute_result"
    }
   ],
   "source": [
    "forest_clf = RandomForestClassifier(random_state=23)\n",
    "forest_clf.fit(X_train_prepared, y_train_res)"
   ]
  },
  {
   "cell_type": "code",
   "execution_count": 33,
   "metadata": {},
   "outputs": [],
   "source": [
    "forest_predictions = cross_val_predict(forest_clf, X_train_prepared, y_train_res, cv=3)"
   ]
  },
  {
   "cell_type": "code",
   "execution_count": 34,
   "metadata": {},
   "outputs": [
    {
     "data": {
      "text/plain": [
       "array([[32040,  1307],\n",
       "       [  366, 26312]], dtype=int64)"
      ]
     },
     "execution_count": 34,
     "metadata": {},
     "output_type": "execute_result"
    }
   ],
   "source": [
    "confusion_matrix(y_train_res, forest_predictions)"
   ]
  },
  {
   "cell_type": "code",
   "execution_count": 35,
   "metadata": {},
   "outputs": [],
   "source": [
    "# Compute Random forest precision and recall\n",
    "forest_precision = precision_score(y_train_res, forest_predictions)\n",
    "forest_recall = recall_score(y_train_res, forest_predictions)"
   ]
  },
  {
   "cell_type": "code",
   "execution_count": 36,
   "metadata": {},
   "outputs": [
    {
     "name": "stdout",
     "output_type": "stream",
     "text": [
      "Random Forest precision: 0.9526775046163872 \n",
      "Random Forest Recall: 0.986280830646975\n"
     ]
    }
   ],
   "source": [
    "print(f'Random Forest precision: {forest_precision} \\nRandom Forest Recall: {forest_recall}')"
   ]
  },
  {
   "cell_type": "code",
   "execution_count": 37,
   "metadata": {},
   "outputs": [
    {
     "data": {
      "text/plain": [
       "0.999952765261737"
      ]
     },
     "execution_count": 37,
     "metadata": {},
     "output_type": "execute_result"
    }
   ],
   "source": [
    "# Compute Area under the ROC; The evaluating performance metric \n",
    "y_probas_forest = forest_clf.predict_proba(X_train_prepared)\n",
    "y_scores_forest = y_probas_forest[:, 1]\n",
    "roc_auc_score(y_train_res, y_scores_forest)"
   ]
  },
  {
   "cell_type": "markdown",
   "metadata": {},
   "source": [
    "Fine tuning models"
   ]
  },
  {
   "cell_type": "code",
   "execution_count": 38,
   "metadata": {},
   "outputs": [],
   "source": [
    "# Defining hyperparameters grid for the Logistic regression and Random forests models\n",
    "log_params = [\n",
    "    {'penalty': ['l1', 'l2'], 'solver': ['liblinear', 'saga'], 'C': [0.5, 1.0, 1.5], 'max_iter': [1000]},\n",
    "    {'penalty': ['l2'], 'solver': ['lbfgs', 'newton-cholesky', 'saga'], 'C': [0.5, 1.0, 1.5], 'max_iter': [1000]}\n",
    "]\n",
    "\n",
    "forest_params = [\n",
    "    {'criterion': ['gini', 'entropy', 'log_loss'], 'bootstrap': [True, False], 'max_features': ['sqrt', 'log2']}\n",
    "]"
   ]
  },
  {
   "cell_type": "code",
   "execution_count": 39,
   "metadata": {},
   "outputs": [],
   "source": [
    "# Instantiate GridSeachCv objects for baseline models\n",
    "from sklearn.model_selection import GridSearchCV\n",
    "log_grid_search = GridSearchCV(log_regression, log_params, cv=5, scoring='roc_auc', return_train_score=True)\n",
    "\n",
    "forest_grid_search = GridSearchCV(forest_clf, forest_params, cv=5, scoring='roc_auc', return_train_score=True)"
   ]
  },
  {
   "cell_type": "code",
   "execution_count": 61,
   "metadata": {},
   "outputs": [],
   "source": [
    "# Run original training + val set through data preparation pipeline; Not resampling\n",
    "X_train_prep = prep_pipeline.fit_transform(X_train_val)"
   ]
  },
  {
   "cell_type": "code",
   "execution_count": 62,
   "metadata": {},
   "outputs": [
    {
     "data": {
      "text/html": [
       "<style>#sk-container-id-6 {color: black;background-color: white;}#sk-container-id-6 pre{padding: 0;}#sk-container-id-6 div.sk-toggleable {background-color: white;}#sk-container-id-6 label.sk-toggleable__label {cursor: pointer;display: block;width: 100%;margin-bottom: 0;padding: 0.3em;box-sizing: border-box;text-align: center;}#sk-container-id-6 label.sk-toggleable__label-arrow:before {content: \"▸\";float: left;margin-right: 0.25em;color: #696969;}#sk-container-id-6 label.sk-toggleable__label-arrow:hover:before {color: black;}#sk-container-id-6 div.sk-estimator:hover label.sk-toggleable__label-arrow:before {color: black;}#sk-container-id-6 div.sk-toggleable__content {max-height: 0;max-width: 0;overflow: hidden;text-align: left;background-color: #f0f8ff;}#sk-container-id-6 div.sk-toggleable__content pre {margin: 0.2em;color: black;border-radius: 0.25em;background-color: #f0f8ff;}#sk-container-id-6 input.sk-toggleable__control:checked~div.sk-toggleable__content {max-height: 200px;max-width: 100%;overflow: auto;}#sk-container-id-6 input.sk-toggleable__control:checked~label.sk-toggleable__label-arrow:before {content: \"▾\";}#sk-container-id-6 div.sk-estimator input.sk-toggleable__control:checked~label.sk-toggleable__label {background-color: #d4ebff;}#sk-container-id-6 div.sk-label input.sk-toggleable__control:checked~label.sk-toggleable__label {background-color: #d4ebff;}#sk-container-id-6 input.sk-hidden--visually {border: 0;clip: rect(1px 1px 1px 1px);clip: rect(1px, 1px, 1px, 1px);height: 1px;margin: -1px;overflow: hidden;padding: 0;position: absolute;width: 1px;}#sk-container-id-6 div.sk-estimator {font-family: monospace;background-color: #f0f8ff;border: 1px dotted black;border-radius: 0.25em;box-sizing: border-box;margin-bottom: 0.5em;}#sk-container-id-6 div.sk-estimator:hover {background-color: #d4ebff;}#sk-container-id-6 div.sk-parallel-item::after {content: \"\";width: 100%;border-bottom: 1px solid gray;flex-grow: 1;}#sk-container-id-6 div.sk-label:hover label.sk-toggleable__label {background-color: #d4ebff;}#sk-container-id-6 div.sk-serial::before {content: \"\";position: absolute;border-left: 1px solid gray;box-sizing: border-box;top: 0;bottom: 0;left: 50%;z-index: 0;}#sk-container-id-6 div.sk-serial {display: flex;flex-direction: column;align-items: center;background-color: white;padding-right: 0.2em;padding-left: 0.2em;position: relative;}#sk-container-id-6 div.sk-item {position: relative;z-index: 1;}#sk-container-id-6 div.sk-parallel {display: flex;align-items: stretch;justify-content: center;background-color: white;position: relative;}#sk-container-id-6 div.sk-item::before, #sk-container-id-6 div.sk-parallel-item::before {content: \"\";position: absolute;border-left: 1px solid gray;box-sizing: border-box;top: 0;bottom: 0;left: 50%;z-index: -1;}#sk-container-id-6 div.sk-parallel-item {display: flex;flex-direction: column;z-index: 1;position: relative;background-color: white;}#sk-container-id-6 div.sk-parallel-item:first-child::after {align-self: flex-end;width: 50%;}#sk-container-id-6 div.sk-parallel-item:last-child::after {align-self: flex-start;width: 50%;}#sk-container-id-6 div.sk-parallel-item:only-child::after {width: 0;}#sk-container-id-6 div.sk-dashed-wrapped {border: 1px dashed gray;margin: 0 0.4em 0.5em 0.4em;box-sizing: border-box;padding-bottom: 0.4em;background-color: white;}#sk-container-id-6 div.sk-label label {font-family: monospace;font-weight: bold;display: inline-block;line-height: 1.2em;}#sk-container-id-6 div.sk-label-container {text-align: center;}#sk-container-id-6 div.sk-container {/* jupyter's `normalize.less` sets `[hidden] { display: none; }` but bootstrap.min.css set `[hidden] { display: none !important; }` so we also need the `!important` here to be able to override the default hidden behavior on the sphinx rendered scikit-learn.org. See: https://github.com/scikit-learn/scikit-learn/issues/21755 */display: inline-block !important;position: relative;}#sk-container-id-6 div.sk-text-repr-fallback {display: none;}</style><div id=\"sk-container-id-6\" class=\"sk-top-container\"><div class=\"sk-text-repr-fallback\"><pre>GridSearchCV(cv=5, estimator=LogisticRegression(random_state=23),\n",
       "             param_grid=[{&#x27;C&#x27;: [0.5, 1.0, 1.5], &#x27;max_iter&#x27;: [1000],\n",
       "                          &#x27;penalty&#x27;: [&#x27;l1&#x27;, &#x27;l2&#x27;],\n",
       "                          &#x27;solver&#x27;: [&#x27;liblinear&#x27;, &#x27;saga&#x27;]},\n",
       "                         {&#x27;C&#x27;: [0.5, 1.0, 1.5], &#x27;max_iter&#x27;: [1000],\n",
       "                          &#x27;penalty&#x27;: [&#x27;l2&#x27;],\n",
       "                          &#x27;solver&#x27;: [&#x27;lbfgs&#x27;, &#x27;newton-cholesky&#x27;, &#x27;saga&#x27;]}],\n",
       "             return_train_score=True, scoring=&#x27;roc_auc&#x27;)</pre><b>In a Jupyter environment, please rerun this cell to show the HTML representation or trust the notebook. <br />On GitHub, the HTML representation is unable to render, please try loading this page with nbviewer.org.</b></div><div class=\"sk-container\" hidden><div class=\"sk-item sk-dashed-wrapped\"><div class=\"sk-label-container\"><div class=\"sk-label sk-toggleable\"><input class=\"sk-toggleable__control sk-hidden--visually\" id=\"sk-estimator-id-10\" type=\"checkbox\" ><label for=\"sk-estimator-id-10\" class=\"sk-toggleable__label sk-toggleable__label-arrow\">GridSearchCV</label><div class=\"sk-toggleable__content\"><pre>GridSearchCV(cv=5, estimator=LogisticRegression(random_state=23),\n",
       "             param_grid=[{&#x27;C&#x27;: [0.5, 1.0, 1.5], &#x27;max_iter&#x27;: [1000],\n",
       "                          &#x27;penalty&#x27;: [&#x27;l1&#x27;, &#x27;l2&#x27;],\n",
       "                          &#x27;solver&#x27;: [&#x27;liblinear&#x27;, &#x27;saga&#x27;]},\n",
       "                         {&#x27;C&#x27;: [0.5, 1.0, 1.5], &#x27;max_iter&#x27;: [1000],\n",
       "                          &#x27;penalty&#x27;: [&#x27;l2&#x27;],\n",
       "                          &#x27;solver&#x27;: [&#x27;lbfgs&#x27;, &#x27;newton-cholesky&#x27;, &#x27;saga&#x27;]}],\n",
       "             return_train_score=True, scoring=&#x27;roc_auc&#x27;)</pre></div></div></div><div class=\"sk-parallel\"><div class=\"sk-parallel-item\"><div class=\"sk-item\"><div class=\"sk-label-container\"><div class=\"sk-label sk-toggleable\"><input class=\"sk-toggleable__control sk-hidden--visually\" id=\"sk-estimator-id-11\" type=\"checkbox\" ><label for=\"sk-estimator-id-11\" class=\"sk-toggleable__label sk-toggleable__label-arrow\">estimator: LogisticRegression</label><div class=\"sk-toggleable__content\"><pre>LogisticRegression(random_state=23)</pre></div></div></div><div class=\"sk-serial\"><div class=\"sk-item\"><div class=\"sk-estimator sk-toggleable\"><input class=\"sk-toggleable__control sk-hidden--visually\" id=\"sk-estimator-id-12\" type=\"checkbox\" ><label for=\"sk-estimator-id-12\" class=\"sk-toggleable__label sk-toggleable__label-arrow\">LogisticRegression</label><div class=\"sk-toggleable__content\"><pre>LogisticRegression(random_state=23)</pre></div></div></div></div></div></div></div></div></div></div>"
      ],
      "text/plain": [
       "GridSearchCV(cv=5, estimator=LogisticRegression(random_state=23),\n",
       "             param_grid=[{'C': [0.5, 1.0, 1.5], 'max_iter': [1000],\n",
       "                          'penalty': ['l1', 'l2'],\n",
       "                          'solver': ['liblinear', 'saga']},\n",
       "                         {'C': [0.5, 1.0, 1.5], 'max_iter': [1000],\n",
       "                          'penalty': ['l2'],\n",
       "                          'solver': ['lbfgs', 'newton-cholesky', 'saga']}],\n",
       "             return_train_score=True, scoring='roc_auc')"
      ]
     },
     "execution_count": 62,
     "metadata": {},
     "output_type": "execute_result"
    }
   ],
   "source": [
    "# Fine tune logistic regression model on original training set\n",
    "log_grid_search.fit(X_train_prep, y_train_val)"
   ]
  },
  {
   "cell_type": "code",
   "execution_count": 63,
   "metadata": {},
   "outputs": [
    {
     "data": {
      "text/plain": [
       "{'C': 0.5, 'max_iter': 1000, 'penalty': 'l2', 'solver': 'liblinear'}"
      ]
     },
     "execution_count": 63,
     "metadata": {},
     "output_type": "execute_result"
    }
   ],
   "source": [
    "log_grid_search.best_params_"
   ]
  },
  {
   "cell_type": "code",
   "execution_count": 64,
   "metadata": {},
   "outputs": [
    {
     "name": "stdout",
     "output_type": "stream",
     "text": [
      "0.8762932200201856 {'C': 0.5, 'max_iter': 1000, 'penalty': 'l1', 'solver': 'liblinear'}\n",
      "0.8763135263366995 {'C': 0.5, 'max_iter': 1000, 'penalty': 'l1', 'solver': 'saga'}\n",
      "0.8765837666907215 {'C': 0.5, 'max_iter': 1000, 'penalty': 'l2', 'solver': 'liblinear'}\n",
      "0.8765264588337848 {'C': 0.5, 'max_iter': 1000, 'penalty': 'l2', 'solver': 'saga'}\n",
      "0.8762660018888596 {'C': 1.0, 'max_iter': 1000, 'penalty': 'l1', 'solver': 'liblinear'}\n",
      "0.876292926547908 {'C': 1.0, 'max_iter': 1000, 'penalty': 'l1', 'solver': 'saga'}\n",
      "0.8764368625535484 {'C': 1.0, 'max_iter': 1000, 'penalty': 'l2', 'solver': 'liblinear'}\n",
      "0.876388233717383 {'C': 1.0, 'max_iter': 1000, 'penalty': 'l2', 'solver': 'saga'}\n",
      "0.876255120694983 {'C': 1.5, 'max_iter': 1000, 'penalty': 'l1', 'solver': 'liblinear'}\n",
      "0.8762897346653122 {'C': 1.5, 'max_iter': 1000, 'penalty': 'l1', 'solver': 'saga'}\n",
      "0.8763750822537693 {'C': 1.5, 'max_iter': 1000, 'penalty': 'l2', 'solver': 'liblinear'}\n",
      "0.8763532479227649 {'C': 1.5, 'max_iter': 1000, 'penalty': 'l2', 'solver': 'saga'}\n",
      "0.8764839144544926 {'C': 0.5, 'max_iter': 1000, 'penalty': 'l2', 'solver': 'lbfgs'}\n",
      "0.8764596253596728 {'C': 0.5, 'max_iter': 1000, 'penalty': 'l2', 'solver': 'newton-cholesky'}\n",
      "0.8765264588337848 {'C': 0.5, 'max_iter': 1000, 'penalty': 'l2', 'solver': 'saga'}\n",
      "0.8763631898323375 {'C': 1.0, 'max_iter': 1000, 'penalty': 'l2', 'solver': 'lbfgs'}\n",
      "0.8763285216581315 {'C': 1.0, 'max_iter': 1000, 'penalty': 'l2', 'solver': 'newton-cholesky'}\n",
      "0.876388233717383 {'C': 1.0, 'max_iter': 1000, 'penalty': 'l2', 'solver': 'saga'}\n",
      "0.8763269310496764 {'C': 1.5, 'max_iter': 1000, 'penalty': 'l2', 'solver': 'lbfgs'}\n",
      "0.8762886306436428 {'C': 1.5, 'max_iter': 1000, 'penalty': 'l2', 'solver': 'newton-cholesky'}\n",
      "0.8763532479227649 {'C': 1.5, 'max_iter': 1000, 'penalty': 'l2', 'solver': 'saga'}\n"
     ]
    }
   ],
   "source": [
    "log_cv_res = log_grid_search.cv_results_\n",
    "for mean_roc_auc, params in zip(log_cv_res[\"mean_test_score\"], log_cv_res[\"params\"]):\n",
    "    print(mean_roc_auc, params)"
   ]
  },
  {
   "cell_type": "code",
   "execution_count": 65,
   "metadata": {},
   "outputs": [
    {
     "data": {
      "text/html": [
       "<style>#sk-container-id-7 {color: black;background-color: white;}#sk-container-id-7 pre{padding: 0;}#sk-container-id-7 div.sk-toggleable {background-color: white;}#sk-container-id-7 label.sk-toggleable__label {cursor: pointer;display: block;width: 100%;margin-bottom: 0;padding: 0.3em;box-sizing: border-box;text-align: center;}#sk-container-id-7 label.sk-toggleable__label-arrow:before {content: \"▸\";float: left;margin-right: 0.25em;color: #696969;}#sk-container-id-7 label.sk-toggleable__label-arrow:hover:before {color: black;}#sk-container-id-7 div.sk-estimator:hover label.sk-toggleable__label-arrow:before {color: black;}#sk-container-id-7 div.sk-toggleable__content {max-height: 0;max-width: 0;overflow: hidden;text-align: left;background-color: #f0f8ff;}#sk-container-id-7 div.sk-toggleable__content pre {margin: 0.2em;color: black;border-radius: 0.25em;background-color: #f0f8ff;}#sk-container-id-7 input.sk-toggleable__control:checked~div.sk-toggleable__content {max-height: 200px;max-width: 100%;overflow: auto;}#sk-container-id-7 input.sk-toggleable__control:checked~label.sk-toggleable__label-arrow:before {content: \"▾\";}#sk-container-id-7 div.sk-estimator input.sk-toggleable__control:checked~label.sk-toggleable__label {background-color: #d4ebff;}#sk-container-id-7 div.sk-label input.sk-toggleable__control:checked~label.sk-toggleable__label {background-color: #d4ebff;}#sk-container-id-7 input.sk-hidden--visually {border: 0;clip: rect(1px 1px 1px 1px);clip: rect(1px, 1px, 1px, 1px);height: 1px;margin: -1px;overflow: hidden;padding: 0;position: absolute;width: 1px;}#sk-container-id-7 div.sk-estimator {font-family: monospace;background-color: #f0f8ff;border: 1px dotted black;border-radius: 0.25em;box-sizing: border-box;margin-bottom: 0.5em;}#sk-container-id-7 div.sk-estimator:hover {background-color: #d4ebff;}#sk-container-id-7 div.sk-parallel-item::after {content: \"\";width: 100%;border-bottom: 1px solid gray;flex-grow: 1;}#sk-container-id-7 div.sk-label:hover label.sk-toggleable__label {background-color: #d4ebff;}#sk-container-id-7 div.sk-serial::before {content: \"\";position: absolute;border-left: 1px solid gray;box-sizing: border-box;top: 0;bottom: 0;left: 50%;z-index: 0;}#sk-container-id-7 div.sk-serial {display: flex;flex-direction: column;align-items: center;background-color: white;padding-right: 0.2em;padding-left: 0.2em;position: relative;}#sk-container-id-7 div.sk-item {position: relative;z-index: 1;}#sk-container-id-7 div.sk-parallel {display: flex;align-items: stretch;justify-content: center;background-color: white;position: relative;}#sk-container-id-7 div.sk-item::before, #sk-container-id-7 div.sk-parallel-item::before {content: \"\";position: absolute;border-left: 1px solid gray;box-sizing: border-box;top: 0;bottom: 0;left: 50%;z-index: -1;}#sk-container-id-7 div.sk-parallel-item {display: flex;flex-direction: column;z-index: 1;position: relative;background-color: white;}#sk-container-id-7 div.sk-parallel-item:first-child::after {align-self: flex-end;width: 50%;}#sk-container-id-7 div.sk-parallel-item:last-child::after {align-self: flex-start;width: 50%;}#sk-container-id-7 div.sk-parallel-item:only-child::after {width: 0;}#sk-container-id-7 div.sk-dashed-wrapped {border: 1px dashed gray;margin: 0 0.4em 0.5em 0.4em;box-sizing: border-box;padding-bottom: 0.4em;background-color: white;}#sk-container-id-7 div.sk-label label {font-family: monospace;font-weight: bold;display: inline-block;line-height: 1.2em;}#sk-container-id-7 div.sk-label-container {text-align: center;}#sk-container-id-7 div.sk-container {/* jupyter's `normalize.less` sets `[hidden] { display: none; }` but bootstrap.min.css set `[hidden] { display: none !important; }` so we also need the `!important` here to be able to override the default hidden behavior on the sphinx rendered scikit-learn.org. See: https://github.com/scikit-learn/scikit-learn/issues/21755 */display: inline-block !important;position: relative;}#sk-container-id-7 div.sk-text-repr-fallback {display: none;}</style><div id=\"sk-container-id-7\" class=\"sk-top-container\"><div class=\"sk-text-repr-fallback\"><pre>GridSearchCV(cv=5, estimator=RandomForestClassifier(random_state=23),\n",
       "             param_grid=[{&#x27;bootstrap&#x27;: [True, False],\n",
       "                          &#x27;criterion&#x27;: [&#x27;gini&#x27;, &#x27;entropy&#x27;, &#x27;log_loss&#x27;],\n",
       "                          &#x27;max_features&#x27;: [&#x27;sqrt&#x27;, &#x27;log2&#x27;]}],\n",
       "             return_train_score=True, scoring=&#x27;roc_auc&#x27;)</pre><b>In a Jupyter environment, please rerun this cell to show the HTML representation or trust the notebook. <br />On GitHub, the HTML representation is unable to render, please try loading this page with nbviewer.org.</b></div><div class=\"sk-container\" hidden><div class=\"sk-item sk-dashed-wrapped\"><div class=\"sk-label-container\"><div class=\"sk-label sk-toggleable\"><input class=\"sk-toggleable__control sk-hidden--visually\" id=\"sk-estimator-id-13\" type=\"checkbox\" ><label for=\"sk-estimator-id-13\" class=\"sk-toggleable__label sk-toggleable__label-arrow\">GridSearchCV</label><div class=\"sk-toggleable__content\"><pre>GridSearchCV(cv=5, estimator=RandomForestClassifier(random_state=23),\n",
       "             param_grid=[{&#x27;bootstrap&#x27;: [True, False],\n",
       "                          &#x27;criterion&#x27;: [&#x27;gini&#x27;, &#x27;entropy&#x27;, &#x27;log_loss&#x27;],\n",
       "                          &#x27;max_features&#x27;: [&#x27;sqrt&#x27;, &#x27;log2&#x27;]}],\n",
       "             return_train_score=True, scoring=&#x27;roc_auc&#x27;)</pre></div></div></div><div class=\"sk-parallel\"><div class=\"sk-parallel-item\"><div class=\"sk-item\"><div class=\"sk-label-container\"><div class=\"sk-label sk-toggleable\"><input class=\"sk-toggleable__control sk-hidden--visually\" id=\"sk-estimator-id-14\" type=\"checkbox\" ><label for=\"sk-estimator-id-14\" class=\"sk-toggleable__label sk-toggleable__label-arrow\">estimator: RandomForestClassifier</label><div class=\"sk-toggleable__content\"><pre>RandomForestClassifier(random_state=23)</pre></div></div></div><div class=\"sk-serial\"><div class=\"sk-item\"><div class=\"sk-estimator sk-toggleable\"><input class=\"sk-toggleable__control sk-hidden--visually\" id=\"sk-estimator-id-15\" type=\"checkbox\" ><label for=\"sk-estimator-id-15\" class=\"sk-toggleable__label sk-toggleable__label-arrow\">RandomForestClassifier</label><div class=\"sk-toggleable__content\"><pre>RandomForestClassifier(random_state=23)</pre></div></div></div></div></div></div></div></div></div></div>"
      ],
      "text/plain": [
       "GridSearchCV(cv=5, estimator=RandomForestClassifier(random_state=23),\n",
       "             param_grid=[{'bootstrap': [True, False],\n",
       "                          'criterion': ['gini', 'entropy', 'log_loss'],\n",
       "                          'max_features': ['sqrt', 'log2']}],\n",
       "             return_train_score=True, scoring='roc_auc')"
      ]
     },
     "execution_count": 65,
     "metadata": {},
     "output_type": "execute_result"
    }
   ],
   "source": [
    "# fine tune random forest classifier on original training set  \n",
    "forest_grid_search.fit(X_train_prep, y_train_val)"
   ]
  },
  {
   "cell_type": "code",
   "execution_count": 66,
   "metadata": {},
   "outputs": [
    {
     "data": {
      "text/plain": [
       "{'bootstrap': True, 'criterion': 'gini', 'max_features': 'sqrt'}"
      ]
     },
     "execution_count": 66,
     "metadata": {},
     "output_type": "execute_result"
    }
   ],
   "source": [
    "forest_grid_search.best_params_"
   ]
  },
  {
   "cell_type": "code",
   "execution_count": 67,
   "metadata": {},
   "outputs": [
    {
     "name": "stdout",
     "output_type": "stream",
     "text": [
      "0.800176169724548 {'bootstrap': True, 'criterion': 'gini', 'max_features': 'sqrt'}\n",
      "0.800176169724548 {'bootstrap': True, 'criterion': 'gini', 'max_features': 'log2'}\n",
      "0.7981081722053631 {'bootstrap': True, 'criterion': 'entropy', 'max_features': 'sqrt'}\n",
      "0.7981081722053631 {'bootstrap': True, 'criterion': 'entropy', 'max_features': 'log2'}\n",
      "0.7981081722053631 {'bootstrap': True, 'criterion': 'log_loss', 'max_features': 'sqrt'}\n",
      "0.7981081722053631 {'bootstrap': True, 'criterion': 'log_loss', 'max_features': 'log2'}\n",
      "0.7563090684678181 {'bootstrap': False, 'criterion': 'gini', 'max_features': 'sqrt'}\n",
      "0.7563090684678181 {'bootstrap': False, 'criterion': 'gini', 'max_features': 'log2'}\n",
      "0.7513899000386404 {'bootstrap': False, 'criterion': 'entropy', 'max_features': 'sqrt'}\n",
      "0.7513899000386404 {'bootstrap': False, 'criterion': 'entropy', 'max_features': 'log2'}\n",
      "0.7513899000386404 {'bootstrap': False, 'criterion': 'log_loss', 'max_features': 'sqrt'}\n",
      "0.7513899000386404 {'bootstrap': False, 'criterion': 'log_loss', 'max_features': 'log2'}\n"
     ]
    }
   ],
   "source": [
    "forest_cv_res = forest_grid_search.cv_results_\n",
    "for mean_roc_auc, params in zip(forest_cv_res[\"mean_test_score\"], forest_cv_res[\"params\"]):\n",
    "    print(mean_roc_auc, params)"
   ]
  },
  {
   "cell_type": "code",
   "execution_count": 68,
   "metadata": {},
   "outputs": [],
   "source": [
    "# Selecting final model\n",
    "final_model = log_grid_search.best_estimator_"
   ]
  },
  {
   "cell_type": "markdown",
   "metadata": {},
   "source": [
    "### Model Evaluation and Testing"
   ]
  },
  {
   "cell_type": "markdown",
   "metadata": {},
   "source": [
    "The ROC_AUC metric is used with binary classifiers, it measures the Area under the Reciever operator characteristic curve which plots the True positve rate (Recall) against the False positive rate (FPR). I chose this performance metric because it takes into account the Recall as well as the FPR; the Recall measures the ratio of correct positive predictions to overall positive instances, in other words I care most about cases of bankruptcy (positve predictions) which are classified as non-bankrupt. Also the False Positive Rate computes the ratio of non-bankrupt instances classified as bankrupt"
   ]
  },
  {
   "cell_type": "code",
   "execution_count": 69,
   "metadata": {},
   "outputs": [],
   "source": [
    "# Prepare test set for evaluation\n",
    "X_test_prep = prep_pipeline.transform(X_test)"
   ]
  },
  {
   "cell_type": "code",
   "execution_count": 70,
   "metadata": {},
   "outputs": [],
   "source": [
    "# Evaluating final model on test set using cross validation\n",
    "model_roc_auc = cross_val_score(final_model, X_test_prep, y_test, cv=3, scoring='roc_auc')"
   ]
  },
  {
   "cell_type": "code",
   "execution_count": 71,
   "metadata": {},
   "outputs": [
    {
     "data": {
      "text/plain": [
       "array([0.85284879, 0.87754549, 0.85318062])"
      ]
     },
     "execution_count": 71,
     "metadata": {},
     "output_type": "execute_result"
    }
   ],
   "source": [
    "model_roc_auc"
   ]
  },
  {
   "cell_type": "code",
   "execution_count": 72,
   "metadata": {},
   "outputs": [
    {
     "data": {
      "text/plain": [
       "0.8611916343190905"
      ]
     },
     "execution_count": 72,
     "metadata": {},
     "output_type": "execute_result"
    }
   ],
   "source": [
    "from statistics import mean\n",
    "mean(model_roc_auc)     # Average ROC_AUC score"
   ]
  },
  {
   "cell_type": "code",
   "execution_count": null,
   "metadata": {},
   "outputs": [],
   "source": []
  }
 ],
 "metadata": {
  "kernelspec": {
   "display_name": "Python 3",
   "language": "python",
   "name": "python3"
  },
  "language_info": {
   "codemirror_mode": {
    "name": "ipython",
    "version": 3
   },
   "file_extension": ".py",
   "mimetype": "text/x-python",
   "name": "python",
   "nbconvert_exporter": "python",
   "pygments_lexer": "ipython3",
   "version": "3.9.2"
  },
  "orig_nbformat": 4
 },
 "nbformat": 4,
 "nbformat_minor": 2
}
