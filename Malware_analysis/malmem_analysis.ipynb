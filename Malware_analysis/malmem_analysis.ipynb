{
 "cells": [
  {
   "cell_type": "code",
   "execution_count": 23,
   "metadata": {},
   "outputs": [],
   "source": [
    "import pandas as pd\n",
    "import matplotlib.pyplot as plt\n",
    "import numpy as np\n",
    "import statistics as stat\n",
    "from pandas.plotting import scatter_matrix\n"
   ]
  },
  {
   "cell_type": "code",
   "execution_count": 24,
   "metadata": {},
   "outputs": [],
   "source": [
    "# CONSTANTS\n",
    "PATH = r'C:\\Users\\HP PAVILION 15\\Downloads\\Malware memory analysis\\Obfuscated-MalMem2022.csv'"
   ]
  },
  {
   "cell_type": "markdown",
   "metadata": {},
   "source": [
    "### Data Collection"
   ]
  },
  {
   "cell_type": "code",
   "execution_count": 25,
   "metadata": {},
   "outputs": [
    {
     "data": {
      "text/html": [
       "<div>\n",
       "<style scoped>\n",
       "    .dataframe tbody tr th:only-of-type {\n",
       "        vertical-align: middle;\n",
       "    }\n",
       "\n",
       "    .dataframe tbody tr th {\n",
       "        vertical-align: top;\n",
       "    }\n",
       "\n",
       "    .dataframe thead th {\n",
       "        text-align: right;\n",
       "    }\n",
       "</style>\n",
       "<table border=\"1\" class=\"dataframe\">\n",
       "  <thead>\n",
       "    <tr style=\"text-align: right;\">\n",
       "      <th></th>\n",
       "      <th>Category</th>\n",
       "      <th>pslist.nproc</th>\n",
       "      <th>pslist.nppid</th>\n",
       "      <th>pslist.avg_threads</th>\n",
       "      <th>pslist.nprocs64bit</th>\n",
       "      <th>pslist.avg_handlers</th>\n",
       "      <th>dlllist.ndlls</th>\n",
       "      <th>dlllist.avg_dlls_per_proc</th>\n",
       "      <th>handles.nhandles</th>\n",
       "      <th>handles.avg_handles_per_proc</th>\n",
       "      <th>...</th>\n",
       "      <th>svcscan.kernel_drivers</th>\n",
       "      <th>svcscan.fs_drivers</th>\n",
       "      <th>svcscan.process_services</th>\n",
       "      <th>svcscan.shared_process_services</th>\n",
       "      <th>svcscan.interactive_process_services</th>\n",
       "      <th>svcscan.nactive</th>\n",
       "      <th>callbacks.ncallbacks</th>\n",
       "      <th>callbacks.nanonymous</th>\n",
       "      <th>callbacks.ngeneric</th>\n",
       "      <th>Class</th>\n",
       "    </tr>\n",
       "  </thead>\n",
       "  <tbody>\n",
       "    <tr>\n",
       "      <th>0</th>\n",
       "      <td>Benign</td>\n",
       "      <td>45</td>\n",
       "      <td>17</td>\n",
       "      <td>10.555556</td>\n",
       "      <td>0</td>\n",
       "      <td>202.844444</td>\n",
       "      <td>1694</td>\n",
       "      <td>38.500000</td>\n",
       "      <td>9129</td>\n",
       "      <td>212.302326</td>\n",
       "      <td>...</td>\n",
       "      <td>221</td>\n",
       "      <td>26</td>\n",
       "      <td>24</td>\n",
       "      <td>116</td>\n",
       "      <td>0</td>\n",
       "      <td>121</td>\n",
       "      <td>87</td>\n",
       "      <td>0</td>\n",
       "      <td>8</td>\n",
       "      <td>Benign</td>\n",
       "    </tr>\n",
       "    <tr>\n",
       "      <th>1</th>\n",
       "      <td>Benign</td>\n",
       "      <td>47</td>\n",
       "      <td>19</td>\n",
       "      <td>11.531915</td>\n",
       "      <td>0</td>\n",
       "      <td>242.234043</td>\n",
       "      <td>2074</td>\n",
       "      <td>44.127660</td>\n",
       "      <td>11385</td>\n",
       "      <td>242.234043</td>\n",
       "      <td>...</td>\n",
       "      <td>222</td>\n",
       "      <td>26</td>\n",
       "      <td>24</td>\n",
       "      <td>118</td>\n",
       "      <td>0</td>\n",
       "      <td>122</td>\n",
       "      <td>87</td>\n",
       "      <td>0</td>\n",
       "      <td>8</td>\n",
       "      <td>Benign</td>\n",
       "    </tr>\n",
       "    <tr>\n",
       "      <th>2</th>\n",
       "      <td>Benign</td>\n",
       "      <td>40</td>\n",
       "      <td>14</td>\n",
       "      <td>14.725000</td>\n",
       "      <td>0</td>\n",
       "      <td>288.225000</td>\n",
       "      <td>1932</td>\n",
       "      <td>48.300000</td>\n",
       "      <td>11529</td>\n",
       "      <td>288.225000</td>\n",
       "      <td>...</td>\n",
       "      <td>222</td>\n",
       "      <td>26</td>\n",
       "      <td>27</td>\n",
       "      <td>118</td>\n",
       "      <td>0</td>\n",
       "      <td>120</td>\n",
       "      <td>88</td>\n",
       "      <td>0</td>\n",
       "      <td>8</td>\n",
       "      <td>Benign</td>\n",
       "    </tr>\n",
       "    <tr>\n",
       "      <th>3</th>\n",
       "      <td>Benign</td>\n",
       "      <td>32</td>\n",
       "      <td>13</td>\n",
       "      <td>13.500000</td>\n",
       "      <td>0</td>\n",
       "      <td>264.281250</td>\n",
       "      <td>1445</td>\n",
       "      <td>45.156250</td>\n",
       "      <td>8457</td>\n",
       "      <td>264.281250</td>\n",
       "      <td>...</td>\n",
       "      <td>222</td>\n",
       "      <td>26</td>\n",
       "      <td>27</td>\n",
       "      <td>118</td>\n",
       "      <td>0</td>\n",
       "      <td>120</td>\n",
       "      <td>88</td>\n",
       "      <td>0</td>\n",
       "      <td>8</td>\n",
       "      <td>Benign</td>\n",
       "    </tr>\n",
       "    <tr>\n",
       "      <th>4</th>\n",
       "      <td>Benign</td>\n",
       "      <td>42</td>\n",
       "      <td>16</td>\n",
       "      <td>11.452381</td>\n",
       "      <td>0</td>\n",
       "      <td>281.333333</td>\n",
       "      <td>2067</td>\n",
       "      <td>49.214286</td>\n",
       "      <td>11816</td>\n",
       "      <td>281.333333</td>\n",
       "      <td>...</td>\n",
       "      <td>222</td>\n",
       "      <td>26</td>\n",
       "      <td>24</td>\n",
       "      <td>118</td>\n",
       "      <td>0</td>\n",
       "      <td>124</td>\n",
       "      <td>87</td>\n",
       "      <td>0</td>\n",
       "      <td>8</td>\n",
       "      <td>Benign</td>\n",
       "    </tr>\n",
       "  </tbody>\n",
       "</table>\n",
       "<p>5 rows × 57 columns</p>\n",
       "</div>"
      ],
      "text/plain": [
       "  Category  pslist.nproc  pslist.nppid  pslist.avg_threads  \\\n",
       "0   Benign            45            17           10.555556   \n",
       "1   Benign            47            19           11.531915   \n",
       "2   Benign            40            14           14.725000   \n",
       "3   Benign            32            13           13.500000   \n",
       "4   Benign            42            16           11.452381   \n",
       "\n",
       "   pslist.nprocs64bit  pslist.avg_handlers  dlllist.ndlls  \\\n",
       "0                   0           202.844444           1694   \n",
       "1                   0           242.234043           2074   \n",
       "2                   0           288.225000           1932   \n",
       "3                   0           264.281250           1445   \n",
       "4                   0           281.333333           2067   \n",
       "\n",
       "   dlllist.avg_dlls_per_proc  handles.nhandles  handles.avg_handles_per_proc  \\\n",
       "0                  38.500000              9129                    212.302326   \n",
       "1                  44.127660             11385                    242.234043   \n",
       "2                  48.300000             11529                    288.225000   \n",
       "3                  45.156250              8457                    264.281250   \n",
       "4                  49.214286             11816                    281.333333   \n",
       "\n",
       "   ...  svcscan.kernel_drivers  svcscan.fs_drivers  svcscan.process_services  \\\n",
       "0  ...                     221                  26                        24   \n",
       "1  ...                     222                  26                        24   \n",
       "2  ...                     222                  26                        27   \n",
       "3  ...                     222                  26                        27   \n",
       "4  ...                     222                  26                        24   \n",
       "\n",
       "   svcscan.shared_process_services  svcscan.interactive_process_services  \\\n",
       "0                              116                                     0   \n",
       "1                              118                                     0   \n",
       "2                              118                                     0   \n",
       "3                              118                                     0   \n",
       "4                              118                                     0   \n",
       "\n",
       "   svcscan.nactive  callbacks.ncallbacks  callbacks.nanonymous  \\\n",
       "0              121                    87                     0   \n",
       "1              122                    87                     0   \n",
       "2              120                    88                     0   \n",
       "3              120                    88                     0   \n",
       "4              124                    87                     0   \n",
       "\n",
       "   callbacks.ngeneric   Class  \n",
       "0                   8  Benign  \n",
       "1                   8  Benign  \n",
       "2                   8  Benign  \n",
       "3                   8  Benign  \n",
       "4                   8  Benign  \n",
       "\n",
       "[5 rows x 57 columns]"
      ]
     },
     "execution_count": 25,
     "metadata": {},
     "output_type": "execute_result"
    }
   ],
   "source": [
    "# Loading the dataset\n",
    "malware_full = pd.read_csv(PATH) \n",
    "malware_full.head()"
   ]
  },
  {
   "cell_type": "code",
   "execution_count": 26,
   "metadata": {},
   "outputs": [
    {
     "data": {
      "text/html": [
       "<div>\n",
       "<style scoped>\n",
       "    .dataframe tbody tr th:only-of-type {\n",
       "        vertical-align: middle;\n",
       "    }\n",
       "\n",
       "    .dataframe tbody tr th {\n",
       "        vertical-align: top;\n",
       "    }\n",
       "\n",
       "    .dataframe thead th {\n",
       "        text-align: right;\n",
       "    }\n",
       "</style>\n",
       "<table border=\"1\" class=\"dataframe\">\n",
       "  <thead>\n",
       "    <tr style=\"text-align: right;\">\n",
       "      <th></th>\n",
       "      <th>Category</th>\n",
       "      <th>pslist.nproc</th>\n",
       "      <th>pslist.nppid</th>\n",
       "      <th>pslist.avg_threads</th>\n",
       "      <th>pslist.nprocs64bit</th>\n",
       "      <th>pslist.avg_handlers</th>\n",
       "      <th>dlllist.ndlls</th>\n",
       "      <th>dlllist.avg_dlls_per_proc</th>\n",
       "      <th>handles.nhandles</th>\n",
       "      <th>handles.avg_handles_per_proc</th>\n",
       "      <th>...</th>\n",
       "      <th>svcscan.kernel_drivers</th>\n",
       "      <th>svcscan.fs_drivers</th>\n",
       "      <th>svcscan.process_services</th>\n",
       "      <th>svcscan.shared_process_services</th>\n",
       "      <th>svcscan.interactive_process_services</th>\n",
       "      <th>svcscan.nactive</th>\n",
       "      <th>callbacks.ncallbacks</th>\n",
       "      <th>callbacks.nanonymous</th>\n",
       "      <th>callbacks.ngeneric</th>\n",
       "      <th>Class</th>\n",
       "    </tr>\n",
       "  </thead>\n",
       "  <tbody>\n",
       "    <tr>\n",
       "      <th>58591</th>\n",
       "      <td>Ransomware-Shade-fa03be3078d1b9840f06745f160eb...</td>\n",
       "      <td>37</td>\n",
       "      <td>15</td>\n",
       "      <td>10.108108</td>\n",
       "      <td>0</td>\n",
       "      <td>215.486487</td>\n",
       "      <td>1453</td>\n",
       "      <td>39.270270</td>\n",
       "      <td>7973</td>\n",
       "      <td>215.486487</td>\n",
       "      <td>...</td>\n",
       "      <td>221</td>\n",
       "      <td>26</td>\n",
       "      <td>24</td>\n",
       "      <td>116</td>\n",
       "      <td>0</td>\n",
       "      <td>120</td>\n",
       "      <td>86</td>\n",
       "      <td>0</td>\n",
       "      <td>8</td>\n",
       "      <td>Malware</td>\n",
       "    </tr>\n",
       "    <tr>\n",
       "      <th>58592</th>\n",
       "      <td>Ransomware-Shade-f56687137caf9a67678cde91e4614...</td>\n",
       "      <td>37</td>\n",
       "      <td>14</td>\n",
       "      <td>9.945946</td>\n",
       "      <td>0</td>\n",
       "      <td>190.216216</td>\n",
       "      <td>1347</td>\n",
       "      <td>36.405405</td>\n",
       "      <td>7038</td>\n",
       "      <td>190.216216</td>\n",
       "      <td>...</td>\n",
       "      <td>221</td>\n",
       "      <td>26</td>\n",
       "      <td>24</td>\n",
       "      <td>116</td>\n",
       "      <td>0</td>\n",
       "      <td>116</td>\n",
       "      <td>88</td>\n",
       "      <td>0</td>\n",
       "      <td>8</td>\n",
       "      <td>Malware</td>\n",
       "    </tr>\n",
       "    <tr>\n",
       "      <th>58593</th>\n",
       "      <td>Ransomware-Shade-faddeea111a25da4d0888f3044ae9...</td>\n",
       "      <td>38</td>\n",
       "      <td>15</td>\n",
       "      <td>9.842105</td>\n",
       "      <td>0</td>\n",
       "      <td>210.026316</td>\n",
       "      <td>1448</td>\n",
       "      <td>38.105263</td>\n",
       "      <td>7982</td>\n",
       "      <td>215.729730</td>\n",
       "      <td>...</td>\n",
       "      <td>221</td>\n",
       "      <td>26</td>\n",
       "      <td>24</td>\n",
       "      <td>116</td>\n",
       "      <td>0</td>\n",
       "      <td>120</td>\n",
       "      <td>88</td>\n",
       "      <td>0</td>\n",
       "      <td>8</td>\n",
       "      <td>Malware</td>\n",
       "    </tr>\n",
       "    <tr>\n",
       "      <th>58594</th>\n",
       "      <td>Ransomware-Shade-f866c086af2e1d8ebaa6f2c863157...</td>\n",
       "      <td>37</td>\n",
       "      <td>15</td>\n",
       "      <td>10.243243</td>\n",
       "      <td>0</td>\n",
       "      <td>215.513513</td>\n",
       "      <td>1452</td>\n",
       "      <td>39.243243</td>\n",
       "      <td>7974</td>\n",
       "      <td>215.513513</td>\n",
       "      <td>...</td>\n",
       "      <td>221</td>\n",
       "      <td>26</td>\n",
       "      <td>24</td>\n",
       "      <td>116</td>\n",
       "      <td>0</td>\n",
       "      <td>120</td>\n",
       "      <td>87</td>\n",
       "      <td>0</td>\n",
       "      <td>8</td>\n",
       "      <td>Malware</td>\n",
       "    </tr>\n",
       "    <tr>\n",
       "      <th>58595</th>\n",
       "      <td>Ransomware-Shade-955d9af38346c1755527bd196668e...</td>\n",
       "      <td>38</td>\n",
       "      <td>15</td>\n",
       "      <td>9.868421</td>\n",
       "      <td>0</td>\n",
       "      <td>213.026316</td>\n",
       "      <td>1487</td>\n",
       "      <td>39.131579</td>\n",
       "      <td>8095</td>\n",
       "      <td>213.026316</td>\n",
       "      <td>...</td>\n",
       "      <td>221</td>\n",
       "      <td>26</td>\n",
       "      <td>24</td>\n",
       "      <td>116</td>\n",
       "      <td>0</td>\n",
       "      <td>120</td>\n",
       "      <td>86</td>\n",
       "      <td>0</td>\n",
       "      <td>8</td>\n",
       "      <td>Malware</td>\n",
       "    </tr>\n",
       "  </tbody>\n",
       "</table>\n",
       "<p>5 rows × 57 columns</p>\n",
       "</div>"
      ],
      "text/plain": [
       "                                                Category  pslist.nproc  \\\n",
       "58591  Ransomware-Shade-fa03be3078d1b9840f06745f160eb...            37   \n",
       "58592  Ransomware-Shade-f56687137caf9a67678cde91e4614...            37   \n",
       "58593  Ransomware-Shade-faddeea111a25da4d0888f3044ae9...            38   \n",
       "58594  Ransomware-Shade-f866c086af2e1d8ebaa6f2c863157...            37   \n",
       "58595  Ransomware-Shade-955d9af38346c1755527bd196668e...            38   \n",
       "\n",
       "       pslist.nppid  pslist.avg_threads  pslist.nprocs64bit  \\\n",
       "58591            15           10.108108                   0   \n",
       "58592            14            9.945946                   0   \n",
       "58593            15            9.842105                   0   \n",
       "58594            15           10.243243                   0   \n",
       "58595            15            9.868421                   0   \n",
       "\n",
       "       pslist.avg_handlers  dlllist.ndlls  dlllist.avg_dlls_per_proc  \\\n",
       "58591           215.486487           1453                  39.270270   \n",
       "58592           190.216216           1347                  36.405405   \n",
       "58593           210.026316           1448                  38.105263   \n",
       "58594           215.513513           1452                  39.243243   \n",
       "58595           213.026316           1487                  39.131579   \n",
       "\n",
       "       handles.nhandles  handles.avg_handles_per_proc  ...  \\\n",
       "58591              7973                    215.486487  ...   \n",
       "58592              7038                    190.216216  ...   \n",
       "58593              7982                    215.729730  ...   \n",
       "58594              7974                    215.513513  ...   \n",
       "58595              8095                    213.026316  ...   \n",
       "\n",
       "       svcscan.kernel_drivers  svcscan.fs_drivers  svcscan.process_services  \\\n",
       "58591                     221                  26                        24   \n",
       "58592                     221                  26                        24   \n",
       "58593                     221                  26                        24   \n",
       "58594                     221                  26                        24   \n",
       "58595                     221                  26                        24   \n",
       "\n",
       "       svcscan.shared_process_services  svcscan.interactive_process_services  \\\n",
       "58591                              116                                     0   \n",
       "58592                              116                                     0   \n",
       "58593                              116                                     0   \n",
       "58594                              116                                     0   \n",
       "58595                              116                                     0   \n",
       "\n",
       "       svcscan.nactive  callbacks.ncallbacks  callbacks.nanonymous  \\\n",
       "58591              120                    86                     0   \n",
       "58592              116                    88                     0   \n",
       "58593              120                    88                     0   \n",
       "58594              120                    87                     0   \n",
       "58595              120                    86                     0   \n",
       "\n",
       "       callbacks.ngeneric    Class  \n",
       "58591                   8  Malware  \n",
       "58592                   8  Malware  \n",
       "58593                   8  Malware  \n",
       "58594                   8  Malware  \n",
       "58595                   8  Malware  \n",
       "\n",
       "[5 rows x 57 columns]"
      ]
     },
     "execution_count": 26,
     "metadata": {},
     "output_type": "execute_result"
    }
   ],
   "source": [
    "malware_full.tail()"
   ]
  },
  {
   "cell_type": "code",
   "execution_count": 27,
   "metadata": {},
   "outputs": [
    {
     "name": "stdout",
     "output_type": "stream",
     "text": [
      "<class 'pandas.core.frame.DataFrame'>\n",
      "RangeIndex: 58596 entries, 0 to 58595\n",
      "Data columns (total 57 columns):\n",
      " #   Column                                  Non-Null Count  Dtype  \n",
      "---  ------                                  --------------  -----  \n",
      " 0   Category                                58596 non-null  object \n",
      " 1   pslist.nproc                            58596 non-null  int64  \n",
      " 2   pslist.nppid                            58596 non-null  int64  \n",
      " 3   pslist.avg_threads                      58596 non-null  float64\n",
      " 4   pslist.nprocs64bit                      58596 non-null  int64  \n",
      " 5   pslist.avg_handlers                     58596 non-null  float64\n",
      " 6   dlllist.ndlls                           58596 non-null  int64  \n",
      " 7   dlllist.avg_dlls_per_proc               58596 non-null  float64\n",
      " 8   handles.nhandles                        58596 non-null  int64  \n",
      " 9   handles.avg_handles_per_proc            58596 non-null  float64\n",
      " 10  handles.nport                           58596 non-null  int64  \n",
      " 11  handles.nfile                           58596 non-null  int64  \n",
      " 12  handles.nevent                          58596 non-null  int64  \n",
      " 13  handles.ndesktop                        58596 non-null  int64  \n",
      " 14  handles.nkey                            58596 non-null  int64  \n",
      " 15  handles.nthread                         58596 non-null  int64  \n",
      " 16  handles.ndirectory                      58596 non-null  int64  \n",
      " 17  handles.nsemaphore                      58596 non-null  int64  \n",
      " 18  handles.ntimer                          58596 non-null  int64  \n",
      " 19  handles.nsection                        58596 non-null  int64  \n",
      " 20  handles.nmutant                         58596 non-null  int64  \n",
      " 21  ldrmodules.not_in_load                  58596 non-null  int64  \n",
      " 22  ldrmodules.not_in_init                  58596 non-null  int64  \n",
      " 23  ldrmodules.not_in_mem                   58596 non-null  int64  \n",
      " 24  ldrmodules.not_in_load_avg              58596 non-null  float64\n",
      " 25  ldrmodules.not_in_init_avg              58596 non-null  float64\n",
      " 26  ldrmodules.not_in_mem_avg               58596 non-null  float64\n",
      " 27  malfind.ninjections                     58596 non-null  int64  \n",
      " 28  malfind.commitCharge                    58596 non-null  int64  \n",
      " 29  malfind.protection                      58596 non-null  int64  \n",
      " 30  malfind.uniqueInjections                58596 non-null  float64\n",
      " 31  psxview.not_in_pslist                   58596 non-null  int64  \n",
      " 32  psxview.not_in_eprocess_pool            58596 non-null  int64  \n",
      " 33  psxview.not_in_ethread_pool             58596 non-null  int64  \n",
      " 34  psxview.not_in_pspcid_list              58596 non-null  int64  \n",
      " 35  psxview.not_in_csrss_handles            58596 non-null  int64  \n",
      " 36  psxview.not_in_session                  58596 non-null  int64  \n",
      " 37  psxview.not_in_deskthrd                 58596 non-null  int64  \n",
      " 38  psxview.not_in_pslist_false_avg         58596 non-null  float64\n",
      " 39  psxview.not_in_eprocess_pool_false_avg  58596 non-null  float64\n",
      " 40  psxview.not_in_ethread_pool_false_avg   58596 non-null  float64\n",
      " 41  psxview.not_in_pspcid_list_false_avg    58596 non-null  float64\n",
      " 42  psxview.not_in_csrss_handles_false_avg  58596 non-null  float64\n",
      " 43  psxview.not_in_session_false_avg        58596 non-null  float64\n",
      " 44  psxview.not_in_deskthrd_false_avg       58596 non-null  float64\n",
      " 45  modules.nmodules                        58596 non-null  int64  \n",
      " 46  svcscan.nservices                       58596 non-null  int64  \n",
      " 47  svcscan.kernel_drivers                  58596 non-null  int64  \n",
      " 48  svcscan.fs_drivers                      58596 non-null  int64  \n",
      " 49  svcscan.process_services                58596 non-null  int64  \n",
      " 50  svcscan.shared_process_services         58596 non-null  int64  \n",
      " 51  svcscan.interactive_process_services    58596 non-null  int64  \n",
      " 52  svcscan.nactive                         58596 non-null  int64  \n",
      " 53  callbacks.ncallbacks                    58596 non-null  int64  \n",
      " 54  callbacks.nanonymous                    58596 non-null  int64  \n",
      " 55  callbacks.ngeneric                      58596 non-null  int64  \n",
      " 56  Class                                   58596 non-null  object \n",
      "dtypes: float64(15), int64(40), object(2)\n",
      "memory usage: 25.5+ MB\n"
     ]
    }
   ],
   "source": [
    "malware_full.info()"
   ]
  },
  {
   "cell_type": "code",
   "execution_count": 28,
   "metadata": {},
   "outputs": [
    {
     "data": {
      "text/html": [
       "<div>\n",
       "<style scoped>\n",
       "    .dataframe tbody tr th:only-of-type {\n",
       "        vertical-align: middle;\n",
       "    }\n",
       "\n",
       "    .dataframe tbody tr th {\n",
       "        vertical-align: top;\n",
       "    }\n",
       "\n",
       "    .dataframe thead th {\n",
       "        text-align: right;\n",
       "    }\n",
       "</style>\n",
       "<table border=\"1\" class=\"dataframe\">\n",
       "  <thead>\n",
       "    <tr style=\"text-align: right;\">\n",
       "      <th></th>\n",
       "      <th>pslist.nproc</th>\n",
       "      <th>pslist.nppid</th>\n",
       "      <th>pslist.avg_threads</th>\n",
       "      <th>pslist.nprocs64bit</th>\n",
       "      <th>pslist.avg_handlers</th>\n",
       "      <th>dlllist.ndlls</th>\n",
       "      <th>dlllist.avg_dlls_per_proc</th>\n",
       "      <th>handles.nhandles</th>\n",
       "      <th>handles.avg_handles_per_proc</th>\n",
       "      <th>handles.nport</th>\n",
       "      <th>...</th>\n",
       "      <th>svcscan.nservices</th>\n",
       "      <th>svcscan.kernel_drivers</th>\n",
       "      <th>svcscan.fs_drivers</th>\n",
       "      <th>svcscan.process_services</th>\n",
       "      <th>svcscan.shared_process_services</th>\n",
       "      <th>svcscan.interactive_process_services</th>\n",
       "      <th>svcscan.nactive</th>\n",
       "      <th>callbacks.ncallbacks</th>\n",
       "      <th>callbacks.nanonymous</th>\n",
       "      <th>callbacks.ngeneric</th>\n",
       "    </tr>\n",
       "  </thead>\n",
       "  <tbody>\n",
       "    <tr>\n",
       "      <th>count</th>\n",
       "      <td>58596.000000</td>\n",
       "      <td>58596.000000</td>\n",
       "      <td>58596.000000</td>\n",
       "      <td>58596.0</td>\n",
       "      <td>58596.000000</td>\n",
       "      <td>58596.000000</td>\n",
       "      <td>58596.000000</td>\n",
       "      <td>5.859600e+04</td>\n",
       "      <td>58596.000000</td>\n",
       "      <td>58596.0</td>\n",
       "      <td>...</td>\n",
       "      <td>58596.000000</td>\n",
       "      <td>58596.000000</td>\n",
       "      <td>58596.000000</td>\n",
       "      <td>58596.000000</td>\n",
       "      <td>58596.000000</td>\n",
       "      <td>58596.0</td>\n",
       "      <td>58596.000000</td>\n",
       "      <td>58596.000000</td>\n",
       "      <td>58596.000000</td>\n",
       "      <td>58596.000000</td>\n",
       "    </tr>\n",
       "    <tr>\n",
       "      <th>mean</th>\n",
       "      <td>41.394771</td>\n",
       "      <td>14.713837</td>\n",
       "      <td>11.341655</td>\n",
       "      <td>0.0</td>\n",
       "      <td>247.509819</td>\n",
       "      <td>1810.805447</td>\n",
       "      <td>43.707806</td>\n",
       "      <td>1.025858e+04</td>\n",
       "      <td>249.560958</td>\n",
       "      <td>0.0</td>\n",
       "      <td>...</td>\n",
       "      <td>391.347549</td>\n",
       "      <td>221.406581</td>\n",
       "      <td>25.996245</td>\n",
       "      <td>25.063417</td>\n",
       "      <td>116.879514</td>\n",
       "      <td>0.0</td>\n",
       "      <td>121.995546</td>\n",
       "      <td>86.905659</td>\n",
       "      <td>0.000853</td>\n",
       "      <td>7.999881</td>\n",
       "    </tr>\n",
       "    <tr>\n",
       "      <th>std</th>\n",
       "      <td>5.777249</td>\n",
       "      <td>2.656748</td>\n",
       "      <td>1.588231</td>\n",
       "      <td>0.0</td>\n",
       "      <td>111.857790</td>\n",
       "      <td>329.782639</td>\n",
       "      <td>5.742023</td>\n",
       "      <td>4.866864e+03</td>\n",
       "      <td>145.999866</td>\n",
       "      <td>0.0</td>\n",
       "      <td>...</td>\n",
       "      <td>4.529704</td>\n",
       "      <td>1.991087</td>\n",
       "      <td>0.170790</td>\n",
       "      <td>1.529628</td>\n",
       "      <td>1.550401</td>\n",
       "      <td>0.0</td>\n",
       "      <td>2.822858</td>\n",
       "      <td>3.134117</td>\n",
       "      <td>0.029199</td>\n",
       "      <td>0.010929</td>\n",
       "    </tr>\n",
       "    <tr>\n",
       "      <th>min</th>\n",
       "      <td>21.000000</td>\n",
       "      <td>8.000000</td>\n",
       "      <td>1.650000</td>\n",
       "      <td>0.0</td>\n",
       "      <td>34.962500</td>\n",
       "      <td>670.000000</td>\n",
       "      <td>7.333333</td>\n",
       "      <td>3.514000e+03</td>\n",
       "      <td>71.139241</td>\n",
       "      <td>0.0</td>\n",
       "      <td>...</td>\n",
       "      <td>94.000000</td>\n",
       "      <td>55.000000</td>\n",
       "      <td>6.000000</td>\n",
       "      <td>7.000000</td>\n",
       "      <td>26.000000</td>\n",
       "      <td>0.0</td>\n",
       "      <td>30.000000</td>\n",
       "      <td>50.000000</td>\n",
       "      <td>0.000000</td>\n",
       "      <td>7.000000</td>\n",
       "    </tr>\n",
       "    <tr>\n",
       "      <th>25%</th>\n",
       "      <td>40.000000</td>\n",
       "      <td>12.000000</td>\n",
       "      <td>9.972973</td>\n",
       "      <td>0.0</td>\n",
       "      <td>208.725000</td>\n",
       "      <td>1556.000000</td>\n",
       "      <td>38.833333</td>\n",
       "      <td>8.393000e+03</td>\n",
       "      <td>209.648228</td>\n",
       "      <td>0.0</td>\n",
       "      <td>...</td>\n",
       "      <td>389.000000</td>\n",
       "      <td>221.000000</td>\n",
       "      <td>26.000000</td>\n",
       "      <td>24.000000</td>\n",
       "      <td>116.000000</td>\n",
       "      <td>0.0</td>\n",
       "      <td>121.000000</td>\n",
       "      <td>87.000000</td>\n",
       "      <td>0.000000</td>\n",
       "      <td>8.000000</td>\n",
       "    </tr>\n",
       "    <tr>\n",
       "      <th>50%</th>\n",
       "      <td>41.000000</td>\n",
       "      <td>15.000000</td>\n",
       "      <td>11.000000</td>\n",
       "      <td>0.0</td>\n",
       "      <td>243.963710</td>\n",
       "      <td>1735.000000</td>\n",
       "      <td>42.781524</td>\n",
       "      <td>9.287500e+03</td>\n",
       "      <td>247.208951</td>\n",
       "      <td>0.0</td>\n",
       "      <td>...</td>\n",
       "      <td>389.000000</td>\n",
       "      <td>221.000000</td>\n",
       "      <td>26.000000</td>\n",
       "      <td>24.000000</td>\n",
       "      <td>116.000000</td>\n",
       "      <td>0.0</td>\n",
       "      <td>122.000000</td>\n",
       "      <td>87.000000</td>\n",
       "      <td>0.000000</td>\n",
       "      <td>8.000000</td>\n",
       "    </tr>\n",
       "    <tr>\n",
       "      <th>75%</th>\n",
       "      <td>43.000000</td>\n",
       "      <td>16.000000</td>\n",
       "      <td>12.861955</td>\n",
       "      <td>0.0</td>\n",
       "      <td>289.974322</td>\n",
       "      <td>2087.000000</td>\n",
       "      <td>49.605280</td>\n",
       "      <td>1.219300e+04</td>\n",
       "      <td>291.355050</td>\n",
       "      <td>0.0</td>\n",
       "      <td>...</td>\n",
       "      <td>395.000000</td>\n",
       "      <td>222.000000</td>\n",
       "      <td>26.000000</td>\n",
       "      <td>27.000000</td>\n",
       "      <td>118.000000</td>\n",
       "      <td>0.0</td>\n",
       "      <td>123.000000</td>\n",
       "      <td>88.000000</td>\n",
       "      <td>0.000000</td>\n",
       "      <td>8.000000</td>\n",
       "    </tr>\n",
       "    <tr>\n",
       "      <th>max</th>\n",
       "      <td>240.000000</td>\n",
       "      <td>72.000000</td>\n",
       "      <td>16.818182</td>\n",
       "      <td>0.0</td>\n",
       "      <td>24845.951220</td>\n",
       "      <td>3443.000000</td>\n",
       "      <td>53.170732</td>\n",
       "      <td>1.047310e+06</td>\n",
       "      <td>33784.193550</td>\n",
       "      <td>0.0</td>\n",
       "      <td>...</td>\n",
       "      <td>395.000000</td>\n",
       "      <td>222.000000</td>\n",
       "      <td>26.000000</td>\n",
       "      <td>27.000000</td>\n",
       "      <td>118.000000</td>\n",
       "      <td>0.0</td>\n",
       "      <td>129.000000</td>\n",
       "      <td>89.000000</td>\n",
       "      <td>1.000000</td>\n",
       "      <td>8.000000</td>\n",
       "    </tr>\n",
       "  </tbody>\n",
       "</table>\n",
       "<p>8 rows × 55 columns</p>\n",
       "</div>"
      ],
      "text/plain": [
       "       pslist.nproc  pslist.nppid  pslist.avg_threads  pslist.nprocs64bit  \\\n",
       "count  58596.000000  58596.000000        58596.000000             58596.0   \n",
       "mean      41.394771     14.713837           11.341655                 0.0   \n",
       "std        5.777249      2.656748            1.588231                 0.0   \n",
       "min       21.000000      8.000000            1.650000                 0.0   \n",
       "25%       40.000000     12.000000            9.972973                 0.0   \n",
       "50%       41.000000     15.000000           11.000000                 0.0   \n",
       "75%       43.000000     16.000000           12.861955                 0.0   \n",
       "max      240.000000     72.000000           16.818182                 0.0   \n",
       "\n",
       "       pslist.avg_handlers  dlllist.ndlls  dlllist.avg_dlls_per_proc  \\\n",
       "count         58596.000000   58596.000000               58596.000000   \n",
       "mean            247.509819    1810.805447                  43.707806   \n",
       "std             111.857790     329.782639                   5.742023   \n",
       "min              34.962500     670.000000                   7.333333   \n",
       "25%             208.725000    1556.000000                  38.833333   \n",
       "50%             243.963710    1735.000000                  42.781524   \n",
       "75%             289.974322    2087.000000                  49.605280   \n",
       "max           24845.951220    3443.000000                  53.170732   \n",
       "\n",
       "       handles.nhandles  handles.avg_handles_per_proc  handles.nport  ...  \\\n",
       "count      5.859600e+04                  58596.000000        58596.0  ...   \n",
       "mean       1.025858e+04                    249.560958            0.0  ...   \n",
       "std        4.866864e+03                    145.999866            0.0  ...   \n",
       "min        3.514000e+03                     71.139241            0.0  ...   \n",
       "25%        8.393000e+03                    209.648228            0.0  ...   \n",
       "50%        9.287500e+03                    247.208951            0.0  ...   \n",
       "75%        1.219300e+04                    291.355050            0.0  ...   \n",
       "max        1.047310e+06                  33784.193550            0.0  ...   \n",
       "\n",
       "       svcscan.nservices  svcscan.kernel_drivers  svcscan.fs_drivers  \\\n",
       "count       58596.000000            58596.000000        58596.000000   \n",
       "mean          391.347549              221.406581           25.996245   \n",
       "std             4.529704                1.991087            0.170790   \n",
       "min            94.000000               55.000000            6.000000   \n",
       "25%           389.000000              221.000000           26.000000   \n",
       "50%           389.000000              221.000000           26.000000   \n",
       "75%           395.000000              222.000000           26.000000   \n",
       "max           395.000000              222.000000           26.000000   \n",
       "\n",
       "       svcscan.process_services  svcscan.shared_process_services  \\\n",
       "count              58596.000000                     58596.000000   \n",
       "mean                  25.063417                       116.879514   \n",
       "std                    1.529628                         1.550401   \n",
       "min                    7.000000                        26.000000   \n",
       "25%                   24.000000                       116.000000   \n",
       "50%                   24.000000                       116.000000   \n",
       "75%                   27.000000                       118.000000   \n",
       "max                   27.000000                       118.000000   \n",
       "\n",
       "       svcscan.interactive_process_services  svcscan.nactive  \\\n",
       "count                               58596.0     58596.000000   \n",
       "mean                                    0.0       121.995546   \n",
       "std                                     0.0         2.822858   \n",
       "min                                     0.0        30.000000   \n",
       "25%                                     0.0       121.000000   \n",
       "50%                                     0.0       122.000000   \n",
       "75%                                     0.0       123.000000   \n",
       "max                                     0.0       129.000000   \n",
       "\n",
       "       callbacks.ncallbacks  callbacks.nanonymous  callbacks.ngeneric  \n",
       "count          58596.000000          58596.000000        58596.000000  \n",
       "mean              86.905659              0.000853            7.999881  \n",
       "std                3.134117              0.029199            0.010929  \n",
       "min               50.000000              0.000000            7.000000  \n",
       "25%               87.000000              0.000000            8.000000  \n",
       "50%               87.000000              0.000000            8.000000  \n",
       "75%               88.000000              0.000000            8.000000  \n",
       "max               89.000000              1.000000            8.000000  \n",
       "\n",
       "[8 rows x 55 columns]"
      ]
     },
     "execution_count": 28,
     "metadata": {},
     "output_type": "execute_result"
    }
   ],
   "source": [
    "malware_full.describe()"
   ]
  },
  {
   "attachments": {},
   "cell_type": "markdown",
   "metadata": {},
   "source": [
    "### Data Wrangling (cleaning / preprocessing) \n"
   ]
  },
  {
   "cell_type": "code",
   "execution_count": 29,
   "metadata": {},
   "outputs": [],
   "source": [
    "# Separating predictors from the labels\n",
    "malware_labels = malware_full[\"Class\"]\n",
    "malware_features = malware_full.drop(\"Class\", axis=1)"
   ]
  },
  {
   "cell_type": "code",
   "execution_count": 30,
   "metadata": {},
   "outputs": [
    {
     "data": {
      "text/plain": [
       "Class\n",
       "Benign     29298\n",
       "Malware    29298\n",
       "Name: count, dtype: int64"
      ]
     },
     "execution_count": 30,
     "metadata": {},
     "output_type": "execute_result"
    }
   ],
   "source": [
    "malware_labels.value_counts()"
   ]
  },
  {
   "cell_type": "code",
   "execution_count": 31,
   "metadata": {},
   "outputs": [],
   "source": [
    "from sklearn.preprocessing import LabelEncoder\n",
    "label_encoder = LabelEncoder()\n",
    "encoded_labels = label_encoder.fit_transform(malware_labels)"
   ]
  },
  {
   "cell_type": "code",
   "execution_count": 32,
   "metadata": {},
   "outputs": [],
   "source": [
    "# Splitting data into training, testing and validation sets\n",
    "from sklearn.model_selection import train_test_split\n",
    "\n",
    "X_train_val, X_test, y_train_val, y_test = train_test_split(malware_features, encoded_labels, test_size=0.20, random_state=23)\n",
    "X_train, X_val, y_train, y_val = train_test_split(X_train_val, y_train_val, test_size=0.20, random_state=23)"
   ]
  },
  {
   "cell_type": "code",
   "execution_count": 33,
   "metadata": {},
   "outputs": [
    {
     "data": {
      "text/plain": [
       "['pslist.nprocs64bit', 'handles.nport', 'svcscan.interactive_process_services']"
      ]
     },
     "execution_count": 33,
     "metadata": {},
     "output_type": "execute_result"
    }
   ],
   "source": [
    "# Identify attributes with mean 0\n",
    "def mean_zero(dataframe):\n",
    "    means = dataframe.mean(numeric_only=True)\n",
    "    mean_zero_atts = means[means == 0].index.tolist()\n",
    "\n",
    "    return mean_zero_atts\n",
    "\n",
    "mean_zero_list = mean_zero(X_train)\n",
    "mean_zero_list"
   ]
  },
  {
   "cell_type": "code",
   "execution_count": 34,
   "metadata": {},
   "outputs": [
    {
     "data": {
      "text/html": [
       "<div>\n",
       "<style scoped>\n",
       "    .dataframe tbody tr th:only-of-type {\n",
       "        vertical-align: middle;\n",
       "    }\n",
       "\n",
       "    .dataframe tbody tr th {\n",
       "        vertical-align: top;\n",
       "    }\n",
       "\n",
       "    .dataframe thead th {\n",
       "        text-align: right;\n",
       "    }\n",
       "</style>\n",
       "<table border=\"1\" class=\"dataframe\">\n",
       "  <thead>\n",
       "    <tr style=\"text-align: right;\">\n",
       "      <th></th>\n",
       "      <th>pslist.nprocs64bit</th>\n",
       "      <th>handles.nport</th>\n",
       "      <th>svcscan.interactive_process_services</th>\n",
       "    </tr>\n",
       "  </thead>\n",
       "  <tbody>\n",
       "    <tr>\n",
       "      <th>count</th>\n",
       "      <td>37500.0</td>\n",
       "      <td>37500.0</td>\n",
       "      <td>37500.0</td>\n",
       "    </tr>\n",
       "    <tr>\n",
       "      <th>mean</th>\n",
       "      <td>0.0</td>\n",
       "      <td>0.0</td>\n",
       "      <td>0.0</td>\n",
       "    </tr>\n",
       "    <tr>\n",
       "      <th>std</th>\n",
       "      <td>0.0</td>\n",
       "      <td>0.0</td>\n",
       "      <td>0.0</td>\n",
       "    </tr>\n",
       "    <tr>\n",
       "      <th>min</th>\n",
       "      <td>0.0</td>\n",
       "      <td>0.0</td>\n",
       "      <td>0.0</td>\n",
       "    </tr>\n",
       "    <tr>\n",
       "      <th>25%</th>\n",
       "      <td>0.0</td>\n",
       "      <td>0.0</td>\n",
       "      <td>0.0</td>\n",
       "    </tr>\n",
       "    <tr>\n",
       "      <th>50%</th>\n",
       "      <td>0.0</td>\n",
       "      <td>0.0</td>\n",
       "      <td>0.0</td>\n",
       "    </tr>\n",
       "    <tr>\n",
       "      <th>75%</th>\n",
       "      <td>0.0</td>\n",
       "      <td>0.0</td>\n",
       "      <td>0.0</td>\n",
       "    </tr>\n",
       "    <tr>\n",
       "      <th>max</th>\n",
       "      <td>0.0</td>\n",
       "      <td>0.0</td>\n",
       "      <td>0.0</td>\n",
       "    </tr>\n",
       "  </tbody>\n",
       "</table>\n",
       "</div>"
      ],
      "text/plain": [
       "       pslist.nprocs64bit  handles.nport  svcscan.interactive_process_services\n",
       "count             37500.0        37500.0                               37500.0\n",
       "mean                  0.0            0.0                                   0.0\n",
       "std                   0.0            0.0                                   0.0\n",
       "min                   0.0            0.0                                   0.0\n",
       "25%                   0.0            0.0                                   0.0\n",
       "50%                   0.0            0.0                                   0.0\n",
       "75%                   0.0            0.0                                   0.0\n",
       "max                   0.0            0.0                                   0.0"
      ]
     },
     "execution_count": 34,
     "metadata": {},
     "output_type": "execute_result"
    }
   ],
   "source": [
    "X_train[mean_zero_list].describe()"
   ]
  },
  {
   "cell_type": "code",
   "execution_count": 35,
   "metadata": {},
   "outputs": [],
   "source": [
    "# Define function to drop attributes\n",
    "def drop_columns(dataframe):\n",
    "    return dataframe.drop(columns=mean_zero_list)\n"
   ]
  },
  {
   "cell_type": "code",
   "execution_count": 36,
   "metadata": {},
   "outputs": [
    {
     "data": {
      "text/html": [
       "<div>\n",
       "<style scoped>\n",
       "    .dataframe tbody tr th:only-of-type {\n",
       "        vertical-align: middle;\n",
       "    }\n",
       "\n",
       "    .dataframe tbody tr th {\n",
       "        vertical-align: top;\n",
       "    }\n",
       "\n",
       "    .dataframe thead th {\n",
       "        text-align: right;\n",
       "    }\n",
       "</style>\n",
       "<table border=\"1\" class=\"dataframe\">\n",
       "  <thead>\n",
       "    <tr style=\"text-align: right;\">\n",
       "      <th></th>\n",
       "      <th>pslist.nproc</th>\n",
       "      <th>pslist.nppid</th>\n",
       "      <th>pslist.avg_threads</th>\n",
       "      <th>pslist.nprocs64bit</th>\n",
       "      <th>pslist.avg_handlers</th>\n",
       "      <th>dlllist.ndlls</th>\n",
       "      <th>dlllist.avg_dlls_per_proc</th>\n",
       "      <th>handles.nhandles</th>\n",
       "      <th>handles.avg_handles_per_proc</th>\n",
       "      <th>handles.nport</th>\n",
       "      <th>...</th>\n",
       "      <th>svcscan.nservices</th>\n",
       "      <th>svcscan.kernel_drivers</th>\n",
       "      <th>svcscan.fs_drivers</th>\n",
       "      <th>svcscan.process_services</th>\n",
       "      <th>svcscan.shared_process_services</th>\n",
       "      <th>svcscan.interactive_process_services</th>\n",
       "      <th>svcscan.nactive</th>\n",
       "      <th>callbacks.ncallbacks</th>\n",
       "      <th>callbacks.nanonymous</th>\n",
       "      <th>callbacks.ngeneric</th>\n",
       "    </tr>\n",
       "  </thead>\n",
       "  <tbody>\n",
       "    <tr>\n",
       "      <th>count</th>\n",
       "      <td>37500.000000</td>\n",
       "      <td>37500.000000</td>\n",
       "      <td>37500.000000</td>\n",
       "      <td>37500.0</td>\n",
       "      <td>37500.000000</td>\n",
       "      <td>37500.000000</td>\n",
       "      <td>37500.000000</td>\n",
       "      <td>3.750000e+04</td>\n",
       "      <td>37500.000000</td>\n",
       "      <td>37500.0</td>\n",
       "      <td>...</td>\n",
       "      <td>37500.000000</td>\n",
       "      <td>37500.000000</td>\n",
       "      <td>37500.000000</td>\n",
       "      <td>37500.00000</td>\n",
       "      <td>37500.000000</td>\n",
       "      <td>37500.0</td>\n",
       "      <td>37500.000000</td>\n",
       "      <td>37500.000000</td>\n",
       "      <td>37500.000000</td>\n",
       "      <td>37500.000000</td>\n",
       "    </tr>\n",
       "    <tr>\n",
       "      <th>mean</th>\n",
       "      <td>41.387680</td>\n",
       "      <td>14.719227</td>\n",
       "      <td>11.343442</td>\n",
       "      <td>0.0</td>\n",
       "      <td>247.803352</td>\n",
       "      <td>1810.763467</td>\n",
       "      <td>43.706677</td>\n",
       "      <td>1.027045e+04</td>\n",
       "      <td>249.917914</td>\n",
       "      <td>0.0</td>\n",
       "      <td>...</td>\n",
       "      <td>391.345253</td>\n",
       "      <td>221.406907</td>\n",
       "      <td>25.996133</td>\n",
       "      <td>25.06152</td>\n",
       "      <td>116.878693</td>\n",
       "      <td>0.0</td>\n",
       "      <td>121.993440</td>\n",
       "      <td>86.913493</td>\n",
       "      <td>0.000853</td>\n",
       "      <td>7.999867</td>\n",
       "    </tr>\n",
       "    <tr>\n",
       "      <th>std</th>\n",
       "      <td>5.691234</td>\n",
       "      <td>2.706358</td>\n",
       "      <td>1.586810</td>\n",
       "      <td>0.0</td>\n",
       "      <td>135.457353</td>\n",
       "      <td>330.679584</td>\n",
       "      <td>5.723248</td>\n",
       "      <td>5.837150e+03</td>\n",
       "      <td>179.286931</td>\n",
       "      <td>0.0</td>\n",
       "      <td>...</td>\n",
       "      <td>4.591465</td>\n",
       "      <td>2.030344</td>\n",
       "      <td>0.185937</td>\n",
       "      <td>1.52998</td>\n",
       "      <td>1.563736</td>\n",
       "      <td>0.0</td>\n",
       "      <td>2.835143</td>\n",
       "      <td>3.077691</td>\n",
       "      <td>0.029200</td>\n",
       "      <td>0.011546</td>\n",
       "    </tr>\n",
       "    <tr>\n",
       "      <th>min</th>\n",
       "      <td>21.000000</td>\n",
       "      <td>8.000000</td>\n",
       "      <td>1.994681</td>\n",
       "      <td>0.0</td>\n",
       "      <td>44.101064</td>\n",
       "      <td>670.000000</td>\n",
       "      <td>8.632979</td>\n",
       "      <td>3.514000e+03</td>\n",
       "      <td>71.139241</td>\n",
       "      <td>0.0</td>\n",
       "      <td>...</td>\n",
       "      <td>94.000000</td>\n",
       "      <td>55.000000</td>\n",
       "      <td>6.000000</td>\n",
       "      <td>7.00000</td>\n",
       "      <td>26.000000</td>\n",
       "      <td>0.0</td>\n",
       "      <td>30.000000</td>\n",
       "      <td>50.000000</td>\n",
       "      <td>0.000000</td>\n",
       "      <td>7.000000</td>\n",
       "    </tr>\n",
       "    <tr>\n",
       "      <th>25%</th>\n",
       "      <td>40.000000</td>\n",
       "      <td>12.000000</td>\n",
       "      <td>9.973684</td>\n",
       "      <td>0.0</td>\n",
       "      <td>208.780488</td>\n",
       "      <td>1556.000000</td>\n",
       "      <td>38.844444</td>\n",
       "      <td>8.396000e+03</td>\n",
       "      <td>209.717949</td>\n",
       "      <td>0.0</td>\n",
       "      <td>...</td>\n",
       "      <td>389.000000</td>\n",
       "      <td>221.000000</td>\n",
       "      <td>26.000000</td>\n",
       "      <td>24.00000</td>\n",
       "      <td>116.000000</td>\n",
       "      <td>0.0</td>\n",
       "      <td>121.000000</td>\n",
       "      <td>87.000000</td>\n",
       "      <td>0.000000</td>\n",
       "      <td>8.000000</td>\n",
       "    </tr>\n",
       "    <tr>\n",
       "      <th>50%</th>\n",
       "      <td>41.000000</td>\n",
       "      <td>15.000000</td>\n",
       "      <td>11.003305</td>\n",
       "      <td>0.0</td>\n",
       "      <td>243.905971</td>\n",
       "      <td>1736.000000</td>\n",
       "      <td>42.726499</td>\n",
       "      <td>9.288500e+03</td>\n",
       "      <td>247.204545</td>\n",
       "      <td>0.0</td>\n",
       "      <td>...</td>\n",
       "      <td>389.000000</td>\n",
       "      <td>221.000000</td>\n",
       "      <td>26.000000</td>\n",
       "      <td>24.00000</td>\n",
       "      <td>116.000000</td>\n",
       "      <td>0.0</td>\n",
       "      <td>122.000000</td>\n",
       "      <td>87.000000</td>\n",
       "      <td>0.000000</td>\n",
       "      <td>8.000000</td>\n",
       "    </tr>\n",
       "    <tr>\n",
       "      <th>75%</th>\n",
       "      <td>43.000000</td>\n",
       "      <td>16.000000</td>\n",
       "      <td>12.860465</td>\n",
       "      <td>0.0</td>\n",
       "      <td>289.889848</td>\n",
       "      <td>2087.000000</td>\n",
       "      <td>49.593576</td>\n",
       "      <td>1.219125e+04</td>\n",
       "      <td>291.333746</td>\n",
       "      <td>0.0</td>\n",
       "      <td>...</td>\n",
       "      <td>395.000000</td>\n",
       "      <td>222.000000</td>\n",
       "      <td>26.000000</td>\n",
       "      <td>27.00000</td>\n",
       "      <td>118.000000</td>\n",
       "      <td>0.0</td>\n",
       "      <td>123.000000</td>\n",
       "      <td>88.000000</td>\n",
       "      <td>0.000000</td>\n",
       "      <td>8.000000</td>\n",
       "    </tr>\n",
       "    <tr>\n",
       "      <th>max</th>\n",
       "      <td>188.000000</td>\n",
       "      <td>72.000000</td>\n",
       "      <td>16.818182</td>\n",
       "      <td>0.0</td>\n",
       "      <td>24845.951220</td>\n",
       "      <td>3443.000000</td>\n",
       "      <td>53.140984</td>\n",
       "      <td>1.047310e+06</td>\n",
       "      <td>33784.193550</td>\n",
       "      <td>0.0</td>\n",
       "      <td>...</td>\n",
       "      <td>395.000000</td>\n",
       "      <td>222.000000</td>\n",
       "      <td>26.000000</td>\n",
       "      <td>27.00000</td>\n",
       "      <td>118.000000</td>\n",
       "      <td>0.0</td>\n",
       "      <td>129.000000</td>\n",
       "      <td>89.000000</td>\n",
       "      <td>1.000000</td>\n",
       "      <td>8.000000</td>\n",
       "    </tr>\n",
       "  </tbody>\n",
       "</table>\n",
       "<p>8 rows × 55 columns</p>\n",
       "</div>"
      ],
      "text/plain": [
       "       pslist.nproc  pslist.nppid  pslist.avg_threads  pslist.nprocs64bit  \\\n",
       "count  37500.000000  37500.000000        37500.000000             37500.0   \n",
       "mean      41.387680     14.719227           11.343442                 0.0   \n",
       "std        5.691234      2.706358            1.586810                 0.0   \n",
       "min       21.000000      8.000000            1.994681                 0.0   \n",
       "25%       40.000000     12.000000            9.973684                 0.0   \n",
       "50%       41.000000     15.000000           11.003305                 0.0   \n",
       "75%       43.000000     16.000000           12.860465                 0.0   \n",
       "max      188.000000     72.000000           16.818182                 0.0   \n",
       "\n",
       "       pslist.avg_handlers  dlllist.ndlls  dlllist.avg_dlls_per_proc  \\\n",
       "count         37500.000000   37500.000000               37500.000000   \n",
       "mean            247.803352    1810.763467                  43.706677   \n",
       "std             135.457353     330.679584                   5.723248   \n",
       "min              44.101064     670.000000                   8.632979   \n",
       "25%             208.780488    1556.000000                  38.844444   \n",
       "50%             243.905971    1736.000000                  42.726499   \n",
       "75%             289.889848    2087.000000                  49.593576   \n",
       "max           24845.951220    3443.000000                  53.140984   \n",
       "\n",
       "       handles.nhandles  handles.avg_handles_per_proc  handles.nport  ...  \\\n",
       "count      3.750000e+04                  37500.000000        37500.0  ...   \n",
       "mean       1.027045e+04                    249.917914            0.0  ...   \n",
       "std        5.837150e+03                    179.286931            0.0  ...   \n",
       "min        3.514000e+03                     71.139241            0.0  ...   \n",
       "25%        8.396000e+03                    209.717949            0.0  ...   \n",
       "50%        9.288500e+03                    247.204545            0.0  ...   \n",
       "75%        1.219125e+04                    291.333746            0.0  ...   \n",
       "max        1.047310e+06                  33784.193550            0.0  ...   \n",
       "\n",
       "       svcscan.nservices  svcscan.kernel_drivers  svcscan.fs_drivers  \\\n",
       "count       37500.000000            37500.000000        37500.000000   \n",
       "mean          391.345253              221.406907           25.996133   \n",
       "std             4.591465                2.030344            0.185937   \n",
       "min            94.000000               55.000000            6.000000   \n",
       "25%           389.000000              221.000000           26.000000   \n",
       "50%           389.000000              221.000000           26.000000   \n",
       "75%           395.000000              222.000000           26.000000   \n",
       "max           395.000000              222.000000           26.000000   \n",
       "\n",
       "       svcscan.process_services  svcscan.shared_process_services  \\\n",
       "count               37500.00000                     37500.000000   \n",
       "mean                   25.06152                       116.878693   \n",
       "std                     1.52998                         1.563736   \n",
       "min                     7.00000                        26.000000   \n",
       "25%                    24.00000                       116.000000   \n",
       "50%                    24.00000                       116.000000   \n",
       "75%                    27.00000                       118.000000   \n",
       "max                    27.00000                       118.000000   \n",
       "\n",
       "       svcscan.interactive_process_services  svcscan.nactive  \\\n",
       "count                               37500.0     37500.000000   \n",
       "mean                                    0.0       121.993440   \n",
       "std                                     0.0         2.835143   \n",
       "min                                     0.0        30.000000   \n",
       "25%                                     0.0       121.000000   \n",
       "50%                                     0.0       122.000000   \n",
       "75%                                     0.0       123.000000   \n",
       "max                                     0.0       129.000000   \n",
       "\n",
       "       callbacks.ncallbacks  callbacks.nanonymous  callbacks.ngeneric  \n",
       "count          37500.000000          37500.000000        37500.000000  \n",
       "mean              86.913493              0.000853            7.999867  \n",
       "std                3.077691              0.029200            0.011546  \n",
       "min               50.000000              0.000000            7.000000  \n",
       "25%               87.000000              0.000000            8.000000  \n",
       "50%               87.000000              0.000000            8.000000  \n",
       "75%               88.000000              0.000000            8.000000  \n",
       "max               89.000000              1.000000            8.000000  \n",
       "\n",
       "[8 rows x 55 columns]"
      ]
     },
     "execution_count": 36,
     "metadata": {},
     "output_type": "execute_result"
    }
   ],
   "source": [
    "X_train.describe()"
   ]
  },
  {
   "cell_type": "code",
   "execution_count": 37,
   "metadata": {},
   "outputs": [],
   "source": [
    "# Create transformer to drop attributes\n",
    "from sklearn.preprocessing import StandardScaler, FunctionTransformer, OneHotEncoder\n",
    "attribute_remover = FunctionTransformer(drop_columns)"
   ]
  },
  {
   "cell_type": "code",
   "execution_count": 38,
   "metadata": {},
   "outputs": [],
   "source": [
    "# Segregating numerical and categorical attributes\n",
    "def num_cat_split(dataframe):\n",
    "    num = dataframe.drop(['Category'], axis=1)\n",
    "    cat = dataframe[['Category']]\n",
    "\n",
    "    return num, cat\n",
    "\n",
    "X_train_num, X_train_cat = num_cat_split(X_train)"
   ]
  },
  {
   "cell_type": "code",
   "execution_count": 39,
   "metadata": {},
   "outputs": [
    {
     "data": {
      "text/html": [
       "<div>\n",
       "<style scoped>\n",
       "    .dataframe tbody tr th:only-of-type {\n",
       "        vertical-align: middle;\n",
       "    }\n",
       "\n",
       "    .dataframe tbody tr th {\n",
       "        vertical-align: top;\n",
       "    }\n",
       "\n",
       "    .dataframe thead th {\n",
       "        text-align: right;\n",
       "    }\n",
       "</style>\n",
       "<table border=\"1\" class=\"dataframe\">\n",
       "  <thead>\n",
       "    <tr style=\"text-align: right;\">\n",
       "      <th></th>\n",
       "      <th>pslist.nproc</th>\n",
       "      <th>pslist.nppid</th>\n",
       "      <th>pslist.avg_threads</th>\n",
       "      <th>pslist.nprocs64bit</th>\n",
       "      <th>pslist.avg_handlers</th>\n",
       "      <th>dlllist.ndlls</th>\n",
       "      <th>dlllist.avg_dlls_per_proc</th>\n",
       "      <th>handles.nhandles</th>\n",
       "      <th>handles.avg_handles_per_proc</th>\n",
       "      <th>handles.nport</th>\n",
       "      <th>...</th>\n",
       "      <th>svcscan.nservices</th>\n",
       "      <th>svcscan.kernel_drivers</th>\n",
       "      <th>svcscan.fs_drivers</th>\n",
       "      <th>svcscan.process_services</th>\n",
       "      <th>svcscan.shared_process_services</th>\n",
       "      <th>svcscan.interactive_process_services</th>\n",
       "      <th>svcscan.nactive</th>\n",
       "      <th>callbacks.ncallbacks</th>\n",
       "      <th>callbacks.nanonymous</th>\n",
       "      <th>callbacks.ngeneric</th>\n",
       "    </tr>\n",
       "  </thead>\n",
       "  <tbody>\n",
       "    <tr>\n",
       "      <th>47044</th>\n",
       "      <td>40</td>\n",
       "      <td>16</td>\n",
       "      <td>9.72500</td>\n",
       "      <td>0</td>\n",
       "      <td>205.950000</td>\n",
       "      <td>1508</td>\n",
       "      <td>37.700000</td>\n",
       "      <td>8240</td>\n",
       "      <td>216.842105</td>\n",
       "      <td>0</td>\n",
       "      <td>...</td>\n",
       "      <td>389</td>\n",
       "      <td>221</td>\n",
       "      <td>26</td>\n",
       "      <td>24</td>\n",
       "      <td>116</td>\n",
       "      <td>0</td>\n",
       "      <td>119</td>\n",
       "      <td>87</td>\n",
       "      <td>0</td>\n",
       "      <td>8</td>\n",
       "    </tr>\n",
       "    <tr>\n",
       "      <th>12481</th>\n",
       "      <td>41</td>\n",
       "      <td>13</td>\n",
       "      <td>13.32269</td>\n",
       "      <td>0</td>\n",
       "      <td>301.912787</td>\n",
       "      <td>2141</td>\n",
       "      <td>52.219512</td>\n",
       "      <td>12378</td>\n",
       "      <td>301.912787</td>\n",
       "      <td>0</td>\n",
       "      <td>...</td>\n",
       "      <td>395</td>\n",
       "      <td>222</td>\n",
       "      <td>26</td>\n",
       "      <td>27</td>\n",
       "      <td>118</td>\n",
       "      <td>0</td>\n",
       "      <td>123</td>\n",
       "      <td>88</td>\n",
       "      <td>0</td>\n",
       "      <td>8</td>\n",
       "    </tr>\n",
       "  </tbody>\n",
       "</table>\n",
       "<p>2 rows × 55 columns</p>\n",
       "</div>"
      ],
      "text/plain": [
       "       pslist.nproc  pslist.nppid  pslist.avg_threads  pslist.nprocs64bit  \\\n",
       "47044            40            16             9.72500                   0   \n",
       "12481            41            13            13.32269                   0   \n",
       "\n",
       "       pslist.avg_handlers  dlllist.ndlls  dlllist.avg_dlls_per_proc  \\\n",
       "47044           205.950000           1508                  37.700000   \n",
       "12481           301.912787           2141                  52.219512   \n",
       "\n",
       "       handles.nhandles  handles.avg_handles_per_proc  handles.nport  ...  \\\n",
       "47044              8240                    216.842105              0  ...   \n",
       "12481             12378                    301.912787              0  ...   \n",
       "\n",
       "       svcscan.nservices  svcscan.kernel_drivers  svcscan.fs_drivers  \\\n",
       "47044                389                     221                  26   \n",
       "12481                395                     222                  26   \n",
       "\n",
       "       svcscan.process_services  svcscan.shared_process_services  \\\n",
       "47044                        24                              116   \n",
       "12481                        27                              118   \n",
       "\n",
       "       svcscan.interactive_process_services  svcscan.nactive  \\\n",
       "47044                                     0              119   \n",
       "12481                                     0              123   \n",
       "\n",
       "       callbacks.ncallbacks  callbacks.nanonymous  callbacks.ngeneric  \n",
       "47044                    87                     0                   8  \n",
       "12481                    88                     0                   8  \n",
       "\n",
       "[2 rows x 55 columns]"
      ]
     },
     "execution_count": 39,
     "metadata": {},
     "output_type": "execute_result"
    }
   ],
   "source": [
    "X_train_num[:2]"
   ]
  },
  {
   "cell_type": "code",
   "execution_count": 40,
   "metadata": {},
   "outputs": [],
   "source": [
    "# Create pipeline to handle data cleaning and transforming\n",
    "from sklearn.pipeline import Pipeline\n",
    "\n",
    "num_pipeline = Pipeline([\n",
    "    ('attr_remover', attribute_remover),\n",
    "    ('std_scaler', StandardScaler())\n",
    "])"
   ]
  },
  {
   "cell_type": "code",
   "execution_count": 41,
   "metadata": {},
   "outputs": [],
   "source": [
    "from sklearn.compose import ColumnTransformer\n",
    "num_attribs = list(X_train_num)\n",
    "cat_attribs = [\"Category\"]\n",
    "\n",
    "full_pipeline = ColumnTransformer([\n",
    "    ('num', num_pipeline, num_attribs),\n",
    "    ('cat', OneHotEncoder(), cat_attribs)\n",
    "])"
   ]
  },
  {
   "cell_type": "code",
   "execution_count": 42,
   "metadata": {},
   "outputs": [],
   "source": [
    "# Fit and transform training set using data preparation pipeline\n",
    "X_train_prepared = full_pipeline.fit_transform(X_train)"
   ]
  },
  {
   "cell_type": "markdown",
   "metadata": {},
   "source": [
    "### Diagnostic analysis"
   ]
  },
  {
   "cell_type": "code",
   "execution_count": 97,
   "metadata": {},
   "outputs": [],
   "source": [
    "y_train_ex = pd.Series(y_train, name='Class')\n",
    "train_ex = pd.concat([X_train_num, y_train_ex], axis=1)"
   ]
  },
  {
   "cell_type": "code",
   "execution_count": 100,
   "metadata": {},
   "outputs": [
    {
     "data": {
      "text/plain": [
       "Class                                     1.000000\n",
       "svcscan.nservices                         0.017011\n",
       "svcscan.kernel_drivers                    0.016445\n",
       "svcscan.shared_process_services           0.016102\n",
       "svcscan.fs_drivers                        0.014021\n",
       "svcscan.nactive                           0.012822\n",
       "callbacks.ncallbacks                      0.009671\n",
       "svcscan.process_services                  0.009232\n",
       "dlllist.ndlls                             0.008079\n",
       "pslist.nproc                              0.007773\n",
       "handles.nthread                           0.007234\n",
       "modules.nmodules                          0.007069\n",
       "handles.nevent                            0.006881\n",
       "dlllist.avg_dlls_per_proc                 0.006249\n",
       "handles.nsection                          0.006088\n",
       "pslist.avg_threads                        0.005555\n",
       "handles.nsemaphore                        0.005526\n",
       "handles.ntimer                            0.005467\n",
       "callbacks.nanonymous                      0.005402\n",
       "handles.ndesktop                          0.004038\n",
       "handles.nmutant                           0.003977\n",
       "handles.ndirectory                        0.003004\n",
       "psxview.not_in_eprocess_pool              0.002924\n",
       "ldrmodules.not_in_init                    0.002147\n",
       "handles.nkey                              0.001982\n",
       "ldrmodules.not_in_mem                     0.001470\n",
       "ldrmodules.not_in_load                    0.001463\n",
       "psxview.not_in_ethread_pool               0.000871\n",
       "psxview.not_in_csrss_handles              0.000697\n",
       "malfind.uniqueInjections                  0.000616\n",
       "malfind.ninjections                       0.000238\n",
       "malfind.protection                        0.000171\n",
       "psxview.not_in_deskthrd                  -0.001031\n",
       "psxview.not_in_eprocess_pool_false_avg   -0.001365\n",
       "psxview.not_in_ethread_pool_false_avg    -0.001468\n",
       "psxview.not_in_csrss_handles_false_avg   -0.001852\n",
       "malfind.commitCharge                     -0.001886\n",
       "handles.nhandles                         -0.003862\n",
       "pslist.avg_handlers                      -0.004718\n",
       "psxview.not_in_deskthrd_false_avg        -0.004927\n",
       "handles.avg_handles_per_proc             -0.005039\n",
       "pslist.nppid                             -0.005114\n",
       "handles.nfile                            -0.005523\n",
       "psxview.not_in_pslist_false_avg          -0.005836\n",
       "psxview.not_in_session_false_avg         -0.006172\n",
       "psxview.not_in_pslist                    -0.006483\n",
       "psxview.not_in_session                   -0.006525\n",
       "psxview.not_in_pspcid_list_false_avg     -0.007124\n",
       "psxview.not_in_pspcid_list               -0.007480\n",
       "ldrmodules.not_in_mem_avg                -0.010715\n",
       "ldrmodules.not_in_load_avg               -0.010724\n",
       "ldrmodules.not_in_init_avg               -0.014766\n",
       "pslist.nprocs64bit                             NaN\n",
       "handles.nport                                  NaN\n",
       "svcscan.interactive_process_services           NaN\n",
       "callbacks.ngeneric                             NaN\n",
       "Name: Class, dtype: float64"
      ]
     },
     "execution_count": 100,
     "metadata": {},
     "output_type": "execute_result"
    }
   ],
   "source": [
    "# Computing correlations \n",
    "corr_matrix = train_ex.corr()\n",
    "corr_matrix[\"Class\"].sort_values(ascending=False)"
   ]
  },
  {
   "cell_type": "code",
   "execution_count": 114,
   "metadata": {},
   "outputs": [],
   "source": [
    "most_correlated = ['svcscan.nservices','svcscan.kernel_drivers', 'svcscan.shared_process_services', 'svcscan.fs_drivers', 'svcscan.nactive']\n",
    " \n",
    "\n",
    " #'callbacks.ncallbacks', 'svcscan.process_services', 'dlllist.ndlls', 'pslist.nproc', 'handles.nthread'"
   ]
  },
  {
   "cell_type": "code",
   "execution_count": 125,
   "metadata": {},
   "outputs": [
    {
     "data": {
      "image/png": "[encoded data removed]",
      "text/plain": [
       "<Figure size 800x550 with 1 Axes>"
      ]
     },
     "metadata": {},
     "output_type": "display_data"
    }
   ],
   "source": [
    "# Create a KDE plot using Seaborn\n",
    "sns.kdeplot(X_train[most_correlated], fill=True)\n",
    "\n",
    "# Add labels and title\n",
    "plt.xlabel('Value')\n",
    "plt.ylabel('Density')\n",
    "plt.title('KDE Plot of most correlated attributes with Class')\n",
    "\n",
    "plt.show()"
   ]
  },
  {
   "cell_type": "code",
   "execution_count": 103,
   "metadata": {},
   "outputs": [
    {
     "data": {
      "text/plain": [
       "['pslist.avg_handlers',\n",
       " 'dlllist.ndlls',\n",
       " 'handles.nhandles',\n",
       " 'handles.avg_handles_per_proc',\n",
       " 'handles.nfile',\n",
       " 'handles.nevent',\n",
       " 'handles.nkey',\n",
       " 'handles.nthread',\n",
       " 'handles.nsection',\n",
       " 'malfind.commitCharge']"
      ]
     },
     "execution_count": 103,
     "metadata": {},
     "output_type": "execute_result"
    }
   ],
   "source": [
    "# Retrieve attribute names with standard deviation above 100\n",
    "std_dev = X_train_num.std()\n",
    "\n",
    "attributes_above_100 = std_dev[std_dev > 100].index.tolist()\n",
    "attributes_above_100"
   ]
  },
  {
   "cell_type": "code",
   "execution_count": 134,
   "metadata": {},
   "outputs": [
    {
     "data": {
      "image/png": "[encoded data removed]",
      "text/plain": [
       "<Figure size 1200x1100 with 12 Axes>"
      ]
     },
     "metadata": {},
     "output_type": "display_data"
    }
   ],
   "source": [
    "# Histograms of select attributes with highest standard deviation\n",
    "X_train_num[attributes_above_100].hist(bins=35, figsize=(12, 11))\n",
    "plt.show()"
   ]
  },
  {
   "cell_type": "markdown",
   "metadata": {},
   "source": [
    "### Predictive Analysis"
   ]
  },
  {
   "cell_type": "markdown",
   "metadata": {},
   "source": [
    "##### Build baseline models using Logistic Regression and Support Vector Machines"
   ]
  },
  {
   "cell_type": "markdown",
   "metadata": {},
   "source": [
    "Logistic Regression"
   ]
  },
  {
   "cell_type": "code",
   "execution_count": 44,
   "metadata": {},
   "outputs": [],
   "source": [
    "from sklearn.linear_model import LogisticRegression\n",
    "from sklearn.metrics import precision_score, recall_score, confusion_matrix"
   ]
  },
  {
   "cell_type": "code",
   "execution_count": 45,
   "metadata": {},
   "outputs": [
    {
     "data": {
      "text/html": [
       "<style>#sk-container-id-1 {color: black;}#sk-container-id-1 pre{padding: 0;}#sk-container-id-1 div.sk-toggleable {background-color: white;}#sk-container-id-1 label.sk-toggleable__label {cursor: pointer;display: block;width: 100%;margin-bottom: 0;padding: 0.3em;box-sizing: border-box;text-align: center;}#sk-container-id-1 label.sk-toggleable__label-arrow:before {content: \"▸\";float: left;margin-right: 0.25em;color: #696969;}#sk-container-id-1 label.sk-toggleable__label-arrow:hover:before {color: black;}#sk-container-id-1 div.sk-estimator:hover label.sk-toggleable__label-arrow:before {color: black;}#sk-container-id-1 div.sk-toggleable__content {max-height: 0;max-width: 0;overflow: hidden;text-align: left;background-color: #f0f8ff;}#sk-container-id-1 div.sk-toggleable__content pre {margin: 0.2em;color: black;border-radius: 0.25em;background-color: #f0f8ff;}#sk-container-id-1 input.sk-toggleable__control:checked~div.sk-toggleable__content {max-height: 200px;max-width: 100%;overflow: auto;}#sk-container-id-1 input.sk-toggleable__control:checked~label.sk-toggleable__label-arrow:before {content: \"▾\";}#sk-container-id-1 div.sk-estimator input.sk-toggleable__control:checked~label.sk-toggleable__label {background-color: #d4ebff;}#sk-container-id-1 div.sk-label input.sk-toggleable__control:checked~label.sk-toggleable__label {background-color: #d4ebff;}#sk-container-id-1 input.sk-hidden--visually {border: 0;clip: rect(1px 1px 1px 1px);clip: rect(1px, 1px, 1px, 1px);height: 1px;margin: -1px;overflow: hidden;padding: 0;position: absolute;width: 1px;}#sk-container-id-1 div.sk-estimator {font-family: monospace;background-color: #f0f8ff;border: 1px dotted black;border-radius: 0.25em;box-sizing: border-box;margin-bottom: 0.5em;}#sk-container-id-1 div.sk-estimator:hover {background-color: #d4ebff;}#sk-container-id-1 div.sk-parallel-item::after {content: \"\";width: 100%;border-bottom: 1px solid gray;flex-grow: 1;}#sk-container-id-1 div.sk-label:hover label.sk-toggleable__label {background-color: #d4ebff;}#sk-container-id-1 div.sk-serial::before {content: \"\";position: absolute;border-left: 1px solid gray;box-sizing: border-box;top: 0;bottom: 0;left: 50%;z-index: 0;}#sk-container-id-1 div.sk-serial {display: flex;flex-direction: column;align-items: center;background-color: white;padding-right: 0.2em;padding-left: 0.2em;position: relative;}#sk-container-id-1 div.sk-item {position: relative;z-index: 1;}#sk-container-id-1 div.sk-parallel {display: flex;align-items: stretch;justify-content: center;background-color: white;position: relative;}#sk-container-id-1 div.sk-item::before, #sk-container-id-1 div.sk-parallel-item::before {content: \"\";position: absolute;border-left: 1px solid gray;box-sizing: border-box;top: 0;bottom: 0;left: 50%;z-index: -1;}#sk-container-id-1 div.sk-parallel-item {display: flex;flex-direction: column;z-index: 1;position: relative;background-color: white;}#sk-container-id-1 div.sk-parallel-item:first-child::after {align-self: flex-end;width: 50%;}#sk-container-id-1 div.sk-parallel-item:last-child::after {align-self: flex-start;width: 50%;}#sk-container-id-1 div.sk-parallel-item:only-child::after {width: 0;}#sk-container-id-1 div.sk-dashed-wrapped {border: 1px dashed gray;margin: 0 0.4em 0.5em 0.4em;box-sizing: border-box;padding-bottom: 0.4em;background-color: white;}#sk-container-id-1 div.sk-label label {font-family: monospace;font-weight: bold;display: inline-block;line-height: 1.2em;}#sk-container-id-1 div.sk-label-container {text-align: center;}#sk-container-id-1 div.sk-container {/* jupyter's `normalize.less` sets `[hidden] { display: none; }` but bootstrap.min.css set `[hidden] { display: none !important; }` so we also need the `!important` here to be able to override the default hidden behavior on the sphinx rendered scikit-learn.org. See: https://github.com/scikit-learn/scikit-learn/issues/21755 */display: inline-block !important;position: relative;}#sk-container-id-1 div.sk-text-repr-fallback {display: none;}</style><div id=\"sk-container-id-1\" class=\"sk-top-container\"><div class=\"sk-text-repr-fallback\"><pre>LogisticRegression(random_state=23)</pre><b>In a Jupyter environment, please rerun this cell to show the HTML representation or trust the notebook. <br />On GitHub, the HTML representation is unable to render, please try loading this page with nbviewer.org.</b></div><div class=\"sk-container\" hidden><div class=\"sk-item\"><div class=\"sk-estimator sk-toggleable\"><input class=\"sk-toggleable__control sk-hidden--visually\" id=\"sk-estimator-id-1\" type=\"checkbox\" checked><label for=\"sk-estimator-id-1\" class=\"sk-toggleable__label sk-toggleable__label-arrow\">LogisticRegression</label><div class=\"sk-toggleable__content\"><pre>LogisticRegression(random_state=23)</pre></div></div></div></div></div>"
      ],
      "text/plain": [
       "LogisticRegression(random_state=23)"
      ]
     },
     "execution_count": 45,
     "metadata": {},
     "output_type": "execute_result"
    }
   ],
   "source": [
    "# Training a logistic regression algorithm on data\n",
    "log_regression = LogisticRegression(random_state=23)\n",
    "log_regression.fit(X_train_prepared, y_train)"
   ]
  },
  {
   "cell_type": "code",
   "execution_count": 47,
   "metadata": {},
   "outputs": [],
   "source": [
    "from sklearn.model_selection import cross_val_score, cross_val_predict\n",
    "\n",
    "log_predictions = cross_val_predict(log_regression, X_train_prepared, y_train, cv=3)"
   ]
  },
  {
   "cell_type": "code",
   "execution_count": 48,
   "metadata": {},
   "outputs": [
    {
     "data": {
      "text/plain": [
       "array([[18722,     1],\n",
       "       [    5, 18772]], dtype=int64)"
      ]
     },
     "execution_count": 48,
     "metadata": {},
     "output_type": "execute_result"
    }
   ],
   "source": [
    "confusion_matrix(y_train, log_predictions)"
   ]
  },
  {
   "cell_type": "code",
   "execution_count": 49,
   "metadata": {},
   "outputs": [],
   "source": [
    "# Compute logistic regression precision and recall\n",
    "log_precision = precision_score(y_train, log_predictions)\n",
    "log_recall = recall_score(y_train, log_predictions)"
   ]
  },
  {
   "cell_type": "code",
   "execution_count": 50,
   "metadata": {},
   "outputs": [
    {
     "name": "stdout",
     "output_type": "stream",
     "text": [
      "Log precision: 0.999946732008736 \n",
      "Log Recall: 0.9997337167811684\n"
     ]
    }
   ],
   "source": [
    "print(f'Log precision: {log_precision} \\nLog Recall: {log_recall}')"
   ]
  },
  {
   "cell_type": "code",
   "execution_count": 51,
   "metadata": {},
   "outputs": [
    {
     "data": {
      "text/plain": [
       "1.0"
      ]
     },
     "execution_count": 51,
     "metadata": {},
     "output_type": "execute_result"
    }
   ],
   "source": [
    "# Compute Area under the ROC; the evaluating performance metric\n",
    "from sklearn.metrics import roc_auc_score\n",
    "y_scores_log = log_regression.decision_function(X_train_prepared)\n",
    "roc_auc_score(y_train, y_scores_log)"
   ]
  },
  {
   "cell_type": "markdown",
   "metadata": {},
   "source": [
    "Support Vector Machine"
   ]
  },
  {
   "cell_type": "code",
   "execution_count": 55,
   "metadata": {},
   "outputs": [
    {
     "data": {
      "text/html": [
       "<style>#sk-container-id-4 {color: black;}#sk-container-id-4 pre{padding: 0;}#sk-container-id-4 div.sk-toggleable {background-color: white;}#sk-container-id-4 label.sk-toggleable__label {cursor: pointer;display: block;width: 100%;margin-bottom: 0;padding: 0.3em;box-sizing: border-box;text-align: center;}#sk-container-id-4 label.sk-toggleable__label-arrow:before {content: \"▸\";float: left;margin-right: 0.25em;color: #696969;}#sk-container-id-4 label.sk-toggleable__label-arrow:hover:before {color: black;}#sk-container-id-4 div.sk-estimator:hover label.sk-toggleable__label-arrow:before {color: black;}#sk-container-id-4 div.sk-toggleable__content {max-height: 0;max-width: 0;overflow: hidden;text-align: left;background-color: #f0f8ff;}#sk-container-id-4 div.sk-toggleable__content pre {margin: 0.2em;color: black;border-radius: 0.25em;background-color: #f0f8ff;}#sk-container-id-4 input.sk-toggleable__control:checked~div.sk-toggleable__content {max-height: 200px;max-width: 100%;overflow: auto;}#sk-container-id-4 input.sk-toggleable__control:checked~label.sk-toggleable__label-arrow:before {content: \"▾\";}#sk-container-id-4 div.sk-estimator input.sk-toggleable__control:checked~label.sk-toggleable__label {background-color: #d4ebff;}#sk-container-id-4 div.sk-label input.sk-toggleable__control:checked~label.sk-toggleable__label {background-color: #d4ebff;}#sk-container-id-4 input.sk-hidden--visually {border: 0;clip: rect(1px 1px 1px 1px);clip: rect(1px, 1px, 1px, 1px);height: 1px;margin: -1px;overflow: hidden;padding: 0;position: absolute;width: 1px;}#sk-container-id-4 div.sk-estimator {font-family: monospace;background-color: #f0f8ff;border: 1px dotted black;border-radius: 0.25em;box-sizing: border-box;margin-bottom: 0.5em;}#sk-container-id-4 div.sk-estimator:hover {background-color: #d4ebff;}#sk-container-id-4 div.sk-parallel-item::after {content: \"\";width: 100%;border-bottom: 1px solid gray;flex-grow: 1;}#sk-container-id-4 div.sk-label:hover label.sk-toggleable__label {background-color: #d4ebff;}#sk-container-id-4 div.sk-serial::before {content: \"\";position: absolute;border-left: 1px solid gray;box-sizing: border-box;top: 0;bottom: 0;left: 50%;z-index: 0;}#sk-container-id-4 div.sk-serial {display: flex;flex-direction: column;align-items: center;background-color: white;padding-right: 0.2em;padding-left: 0.2em;position: relative;}#sk-container-id-4 div.sk-item {position: relative;z-index: 1;}#sk-container-id-4 div.sk-parallel {display: flex;align-items: stretch;justify-content: center;background-color: white;position: relative;}#sk-container-id-4 div.sk-item::before, #sk-container-id-4 div.sk-parallel-item::before {content: \"\";position: absolute;border-left: 1px solid gray;box-sizing: border-box;top: 0;bottom: 0;left: 50%;z-index: -1;}#sk-container-id-4 div.sk-parallel-item {display: flex;flex-direction: column;z-index: 1;position: relative;background-color: white;}#sk-container-id-4 div.sk-parallel-item:first-child::after {align-self: flex-end;width: 50%;}#sk-container-id-4 div.sk-parallel-item:last-child::after {align-self: flex-start;width: 50%;}#sk-container-id-4 div.sk-parallel-item:only-child::after {width: 0;}#sk-container-id-4 div.sk-dashed-wrapped {border: 1px dashed gray;margin: 0 0.4em 0.5em 0.4em;box-sizing: border-box;padding-bottom: 0.4em;background-color: white;}#sk-container-id-4 div.sk-label label {font-family: monospace;font-weight: bold;display: inline-block;line-height: 1.2em;}#sk-container-id-4 div.sk-label-container {text-align: center;}#sk-container-id-4 div.sk-container {/* jupyter's `normalize.less` sets `[hidden] { display: none; }` but bootstrap.min.css set `[hidden] { display: none !important; }` so we also need the `!important` here to be able to override the default hidden behavior on the sphinx rendered scikit-learn.org. See: https://github.com/scikit-learn/scikit-learn/issues/21755 */display: inline-block !important;position: relative;}#sk-container-id-4 div.sk-text-repr-fallback {display: none;}</style><div id=\"sk-container-id-4\" class=\"sk-top-container\"><div class=\"sk-text-repr-fallback\"><pre>LinearSVC(dual=&#x27;auto&#x27;, max_iter=1500, random_state=23)</pre><b>In a Jupyter environment, please rerun this cell to show the HTML representation or trust the notebook. <br />On GitHub, the HTML representation is unable to render, please try loading this page with nbviewer.org.</b></div><div class=\"sk-container\" hidden><div class=\"sk-item\"><div class=\"sk-estimator sk-toggleable\"><input class=\"sk-toggleable__control sk-hidden--visually\" id=\"sk-estimator-id-4\" type=\"checkbox\" checked><label for=\"sk-estimator-id-4\" class=\"sk-toggleable__label sk-toggleable__label-arrow\">LinearSVC</label><div class=\"sk-toggleable__content\"><pre>LinearSVC(dual=&#x27;auto&#x27;, max_iter=1500, random_state=23)</pre></div></div></div></div></div>"
      ],
      "text/plain": [
       "LinearSVC(dual='auto', max_iter=1500, random_state=23)"
      ]
     },
     "execution_count": 55,
     "metadata": {},
     "output_type": "execute_result"
    }
   ],
   "source": [
    "# training  support vector machine on dataset\n",
    "from sklearn.svm import LinearSVC\n",
    "\n",
    "linearsvc = LinearSVC(dual='auto', random_state=23, max_iter=1500)\n",
    "linearsvc.fit(X_train_prepared, y_train)"
   ]
  },
  {
   "cell_type": "code",
   "execution_count": 56,
   "metadata": {},
   "outputs": [],
   "source": [
    "# Compute svm predictions\n",
    "svm_predictions = cross_val_predict(linearsvc, X_train_prepared, y_train, cv=3)"
   ]
  },
  {
   "cell_type": "code",
   "execution_count": 57,
   "metadata": {},
   "outputs": [
    {
     "data": {
      "text/plain": [
       "array([[18723,     0],\n",
       "       [    2, 18775]], dtype=int64)"
      ]
     },
     "execution_count": 57,
     "metadata": {},
     "output_type": "execute_result"
    }
   ],
   "source": [
    "confusion_matrix(y_train, svm_predictions)"
   ]
  },
  {
   "cell_type": "code",
   "execution_count": 58,
   "metadata": {},
   "outputs": [],
   "source": [
    "# Compute svm  precision and recall\n",
    "svm_precision = precision_score(y_train, svm_predictions)\n",
    "svm_recall = recall_score(y_train, svm_predictions)"
   ]
  },
  {
   "cell_type": "code",
   "execution_count": 59,
   "metadata": {},
   "outputs": [
    {
     "name": "stdout",
     "output_type": "stream",
     "text": [
      "Svm precision: 1.0 \n",
      "Svm Recall: 0.9998934867124674\n"
     ]
    }
   ],
   "source": [
    "print(f'Svm precision: {svm_precision} \\nSvm Recall: {svm_recall}')"
   ]
  },
  {
   "cell_type": "code",
   "execution_count": 60,
   "metadata": {},
   "outputs": [
    {
     "data": {
      "text/plain": [
       "1.0"
      ]
     },
     "execution_count": 60,
     "metadata": {},
     "output_type": "execute_result"
    }
   ],
   "source": [
    "y_scores_svm = linearsvc.decision_function(X_train_prepared)\n",
    "roc_auc_score(y_train, y_scores_svm)"
   ]
  },
  {
   "cell_type": "markdown",
   "metadata": {},
   "source": [
    "##### Evaluating models on validation set"
   ]
  },
  {
   "cell_type": "code",
   "execution_count": 64,
   "metadata": {},
   "outputs": [],
   "source": [
    "# fit and transform validation data on full pipeline\n",
    "X_val_prep = full_pipeline.fit_transform(X_val)"
   ]
  },
  {
   "cell_type": "markdown",
   "metadata": {},
   "source": [
    "Logistic regression"
   ]
  },
  {
   "cell_type": "code",
   "execution_count": 65,
   "metadata": {},
   "outputs": [],
   "source": [
    "log_val_pred = cross_val_predict(log_regression, X_val_prep, y_val, cv=3)"
   ]
  },
  {
   "cell_type": "code",
   "execution_count": 66,
   "metadata": {},
   "outputs": [
    {
     "data": {
      "text/plain": [
       "array([[4697,    2],\n",
       "       [   1, 4676]], dtype=int64)"
      ]
     },
     "execution_count": 66,
     "metadata": {},
     "output_type": "execute_result"
    }
   ],
   "source": [
    "confusion_matrix(y_val, log_val_pred)"
   ]
  },
  {
   "cell_type": "markdown",
   "metadata": {},
   "source": [
    "Support vector machine"
   ]
  },
  {
   "cell_type": "code",
   "execution_count": 67,
   "metadata": {},
   "outputs": [],
   "source": [
    "svm_val_pred = cross_val_predict(linearsvc, X_val_prep, y_val, cv=3)"
   ]
  },
  {
   "cell_type": "code",
   "execution_count": 69,
   "metadata": {},
   "outputs": [
    {
     "data": {
      "text/plain": [
       "array([[4699,    0],\n",
       "       [   0, 4677]], dtype=int64)"
      ]
     },
     "execution_count": 69,
     "metadata": {},
     "output_type": "execute_result"
    }
   ],
   "source": [
    "confusion_matrix(y_val, svm_val_pred)"
   ]
  },
  {
   "cell_type": "markdown",
   "metadata": {},
   "source": [
    "##### Final model training"
   ]
  },
  {
   "cell_type": "code",
   "execution_count": 83,
   "metadata": {},
   "outputs": [],
   "source": [
    "# Prepare full training data; pass throug data pipeline\n",
    "X_train_val = X_train_val.drop('Category', axis=1)\n",
    "train_val_prep = num_pipeline.fit_transform(X_train_val) "
   ]
  },
  {
   "cell_type": "code",
   "execution_count": 84,
   "metadata": {},
   "outputs": [
    {
     "data": {
      "text/html": [
       "<style>#sk-container-id-6 {color: black;}#sk-container-id-6 pre{padding: 0;}#sk-container-id-6 div.sk-toggleable {background-color: white;}#sk-container-id-6 label.sk-toggleable__label {cursor: pointer;display: block;width: 100%;margin-bottom: 0;padding: 0.3em;box-sizing: border-box;text-align: center;}#sk-container-id-6 label.sk-toggleable__label-arrow:before {content: \"▸\";float: left;margin-right: 0.25em;color: #696969;}#sk-container-id-6 label.sk-toggleable__label-arrow:hover:before {color: black;}#sk-container-id-6 div.sk-estimator:hover label.sk-toggleable__label-arrow:before {color: black;}#sk-container-id-6 div.sk-toggleable__content {max-height: 0;max-width: 0;overflow: hidden;text-align: left;background-color: #f0f8ff;}#sk-container-id-6 div.sk-toggleable__content pre {margin: 0.2em;color: black;border-radius: 0.25em;background-color: #f0f8ff;}#sk-container-id-6 input.sk-toggleable__control:checked~div.sk-toggleable__content {max-height: 200px;max-width: 100%;overflow: auto;}#sk-container-id-6 input.sk-toggleable__control:checked~label.sk-toggleable__label-arrow:before {content: \"▾\";}#sk-container-id-6 div.sk-estimator input.sk-toggleable__control:checked~label.sk-toggleable__label {background-color: #d4ebff;}#sk-container-id-6 div.sk-label input.sk-toggleable__control:checked~label.sk-toggleable__label {background-color: #d4ebff;}#sk-container-id-6 input.sk-hidden--visually {border: 0;clip: rect(1px 1px 1px 1px);clip: rect(1px, 1px, 1px, 1px);height: 1px;margin: -1px;overflow: hidden;padding: 0;position: absolute;width: 1px;}#sk-container-id-6 div.sk-estimator {font-family: monospace;background-color: #f0f8ff;border: 1px dotted black;border-radius: 0.25em;box-sizing: border-box;margin-bottom: 0.5em;}#sk-container-id-6 div.sk-estimator:hover {background-color: #d4ebff;}#sk-container-id-6 div.sk-parallel-item::after {content: \"\";width: 100%;border-bottom: 1px solid gray;flex-grow: 1;}#sk-container-id-6 div.sk-label:hover label.sk-toggleable__label {background-color: #d4ebff;}#sk-container-id-6 div.sk-serial::before {content: \"\";position: absolute;border-left: 1px solid gray;box-sizing: border-box;top: 0;bottom: 0;left: 50%;z-index: 0;}#sk-container-id-6 div.sk-serial {display: flex;flex-direction: column;align-items: center;background-color: white;padding-right: 0.2em;padding-left: 0.2em;position: relative;}#sk-container-id-6 div.sk-item {position: relative;z-index: 1;}#sk-container-id-6 div.sk-parallel {display: flex;align-items: stretch;justify-content: center;background-color: white;position: relative;}#sk-container-id-6 div.sk-item::before, #sk-container-id-6 div.sk-parallel-item::before {content: \"\";position: absolute;border-left: 1px solid gray;box-sizing: border-box;top: 0;bottom: 0;left: 50%;z-index: -1;}#sk-container-id-6 div.sk-parallel-item {display: flex;flex-direction: column;z-index: 1;position: relative;background-color: white;}#sk-container-id-6 div.sk-parallel-item:first-child::after {align-self: flex-end;width: 50%;}#sk-container-id-6 div.sk-parallel-item:last-child::after {align-self: flex-start;width: 50%;}#sk-container-id-6 div.sk-parallel-item:only-child::after {width: 0;}#sk-container-id-6 div.sk-dashed-wrapped {border: 1px dashed gray;margin: 0 0.4em 0.5em 0.4em;box-sizing: border-box;padding-bottom: 0.4em;background-color: white;}#sk-container-id-6 div.sk-label label {font-family: monospace;font-weight: bold;display: inline-block;line-height: 1.2em;}#sk-container-id-6 div.sk-label-container {text-align: center;}#sk-container-id-6 div.sk-container {/* jupyter's `normalize.less` sets `[hidden] { display: none; }` but bootstrap.min.css set `[hidden] { display: none !important; }` so we also need the `!important` here to be able to override the default hidden behavior on the sphinx rendered scikit-learn.org. See: https://github.com/scikit-learn/scikit-learn/issues/21755 */display: inline-block !important;position: relative;}#sk-container-id-6 div.sk-text-repr-fallback {display: none;}</style><div id=\"sk-container-id-6\" class=\"sk-top-container\"><div class=\"sk-text-repr-fallback\"><pre>LinearSVC(dual=&#x27;auto&#x27;, max_iter=1500, random_state=23)</pre><b>In a Jupyter environment, please rerun this cell to show the HTML representation or trust the notebook. <br />On GitHub, the HTML representation is unable to render, please try loading this page with nbviewer.org.</b></div><div class=\"sk-container\" hidden><div class=\"sk-item\"><div class=\"sk-estimator sk-toggleable\"><input class=\"sk-toggleable__control sk-hidden--visually\" id=\"sk-estimator-id-6\" type=\"checkbox\" checked><label for=\"sk-estimator-id-6\" class=\"sk-toggleable__label sk-toggleable__label-arrow\">LinearSVC</label><div class=\"sk-toggleable__content\"><pre>LinearSVC(dual=&#x27;auto&#x27;, max_iter=1500, random_state=23)</pre></div></div></div></div></div>"
      ],
      "text/plain": [
       "LinearSVC(dual='auto', max_iter=1500, random_state=23)"
      ]
     },
     "execution_count": 84,
     "metadata": {},
     "output_type": "execute_result"
    }
   ],
   "source": [
    "# Chose the support vector classifier over the logistic regression algorithm as a result of better performance results and shorter training time\n",
    "final_svc = linearsvc.fit(train_val_prep, y_train_val)\n",
    "final_svc"
   ]
  },
  {
   "cell_type": "markdown",
   "metadata": {},
   "source": [
    "Model Evaluation and testing"
   ]
  },
  {
   "cell_type": "code",
   "execution_count": 78,
   "metadata": {},
   "outputs": [],
   "source": [
    "x_test = X_test.drop('Category', axis=1)"
   ]
  },
  {
   "cell_type": "code",
   "execution_count": 85,
   "metadata": {},
   "outputs": [],
   "source": [
    "# Prepare test set for evaluation\n",
    "X_test_prep = num_pipeline.transform(x_test)"
   ]
  },
  {
   "cell_type": "code",
   "execution_count": 86,
   "metadata": {},
   "outputs": [],
   "source": [
    "final_svc_pred = cross_val_predict(final_svc, X_test_prep, y_test, cv=3)"
   ]
  },
  {
   "cell_type": "code",
   "execution_count": 87,
   "metadata": {},
   "outputs": [
    {
     "data": {
      "text/plain": [
       "array([[5872,    4],\n",
       "       [   5, 5839]], dtype=int64)"
      ]
     },
     "execution_count": 87,
     "metadata": {},
     "output_type": "execute_result"
    }
   ],
   "source": [
    "confusion_matrix(y_test, final_svc_pred)"
   ]
  },
  {
   "cell_type": "code",
   "execution_count": 89,
   "metadata": {},
   "outputs": [],
   "source": [
    "# Compute final svc precision and recall\n",
    "svc_precision = precision_score(y_test, final_svc_pred)\n",
    "svc_recall = recall_score(y_test, final_svc_pred)"
   ]
  },
  {
   "cell_type": "code",
   "execution_count": 90,
   "metadata": {},
   "outputs": [
    {
     "name": "stdout",
     "output_type": "stream",
     "text": [
      "Final svc precision: 0.9993154201608763 \n",
      "Final svc Recall: 0.9991444216290212\n"
     ]
    }
   ],
   "source": [
    "print(f'Final svc precision: {svc_precision} \\nFinal svc Recall: {svc_recall}')"
   ]
  },
  {
   "cell_type": "code",
   "execution_count": 91,
   "metadata": {},
   "outputs": [
    {
     "data": {
      "text/plain": [
       "0.9999761498064728"
      ]
     },
     "execution_count": 91,
     "metadata": {},
     "output_type": "execute_result"
    }
   ],
   "source": [
    "y_scores_svc = final_svc.decision_function(X_test_prep)\n",
    "roc_auc_score(y_test, y_scores_svc)"
   ]
  },
  {
   "cell_type": "code",
   "execution_count": 119,
   "metadata": {},
   "outputs": [],
   "source": [
    "from sklearn.metrics import roc_curve\n",
    "fpr, tpr, thresholds = roc_curve(y_test, y_scores_svc)"
   ]
  },
  {
   "cell_type": "code",
   "execution_count": 120,
   "metadata": {},
   "outputs": [
    {
     "data": {
      "image/png": "[encoded data removed]",
      "text/plain": [
       "<Figure size 800x600 with 1 Axes>"
      ]
     },
     "metadata": {},
     "output_type": "display_data"
    }
   ],
   "source": [
    "def plot_roc_curve(fpr, tpr, label=None):\n",
    "    plt.plot(fpr, tpr, linewidth=5, label=label)\n",
    "    plt.plot([0, 1], [0, 1], 'k--')\n",
    "    plt.axis([0, 1, 0, 1])\n",
    "    plt.xlabel('False Positive Rate (Fall-Out)', fontsize=16)\n",
    "    plt.ylabel('True Positive Rate (Recall)', fontsize=16)\n",
    "    plt.grid(True)\n",
    "\n",
    "plt.figure(figsize=(8, 6))\n",
    "plot_roc_curve(fpr, tpr, 'Support Vector Machine')\n",
    "plt.show()"
   ]
  },
  {
   "cell_type": "code",
   "execution_count": null,
   "metadata": {},
   "outputs": [],
   "source": []
  }
 ],
 "metadata": {
  "kernelspec": {
   "display_name": "Python 3",
   "language": "python",
   "name": "python3"
  },
  "language_info": {
   "codemirror_mode": {
    "name": "ipython",
    "version": 3
   },
   "file_extension": ".py",
   "mimetype": "text/x-python",
   "name": "python",
   "nbconvert_exporter": "python",
   "pygments_lexer": "ipython3",
   "version": "3.9.2"
  },
  "orig_nbformat": 4
 },
 "nbformat": 4,
 "nbformat_minor": 2
}
